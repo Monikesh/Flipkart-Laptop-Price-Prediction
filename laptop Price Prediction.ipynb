{
 "cells": [
  {
   "cell_type": "code",
   "execution_count": 1,
   "id": "0dd55f91",
   "metadata": {},
   "outputs": [],
   "source": [
    "import numpy as np\n",
    "import pandas as pd\n",
    "import matplotlib.pyplot as plt"
   ]
  },
  {
   "cell_type": "code",
   "execution_count": 2,
   "id": "f4e9c862",
   "metadata": {},
   "outputs": [],
   "source": [
    "df = pd.read_csv(r\"C:\\Users\\Monikesh Kakoty\\Desktop\\Picture\\Untitled Folder\\laptops_info12.csv\")"
   ]
  },
  {
   "cell_type": "code",
   "execution_count": 3,
   "id": "b706c09b",
   "metadata": {},
   "outputs": [
    {
     "data": {
      "text/html": [
       "<div>\n",
       "<style scoped>\n",
       "    .dataframe tbody tr th:only-of-type {\n",
       "        vertical-align: middle;\n",
       "    }\n",
       "\n",
       "    .dataframe tbody tr th {\n",
       "        vertical-align: top;\n",
       "    }\n",
       "\n",
       "    .dataframe thead th {\n",
       "        text-align: right;\n",
       "    }\n",
       "</style>\n",
       "<table border=\"1\" class=\"dataframe\">\n",
       "  <thead>\n",
       "    <tr style=\"text-align: right;\">\n",
       "      <th></th>\n",
       "      <th>ProductName</th>\n",
       "      <th>star</th>\n",
       "      <th>Ratings</th>\n",
       "      <th>Reviews</th>\n",
       "      <th>Current_Price</th>\n",
       "      <th>mrp</th>\n",
       "      <th>Processor</th>\n",
       "      <th>RAM</th>\n",
       "      <th>OS</th>\n",
       "      <th>Storage</th>\n",
       "      <th>ScreenSize</th>\n",
       "    </tr>\n",
       "  </thead>\n",
       "  <tbody>\n",
       "    <tr>\n",
       "      <th>0</th>\n",
       "      <td>ASUS ROG Strix G15 Ryzen 7 Octa Core 4800H - (...</td>\n",
       "      <td>4.8</td>\n",
       "      <td>13</td>\n",
       "      <td>0</td>\n",
       "      <td>₹89990</td>\n",
       "      <td>₹115990</td>\n",
       "      <td>AMD Ryzen 7 Octa Core Processor</td>\n",
       "      <td>16 GB DDR4 RAM</td>\n",
       "      <td>Windows 11 Operating System</td>\n",
       "      <td>1 TB SSD</td>\n",
       "      <td>39.62 cm (15.6 inch) Display</td>\n",
       "    </tr>\n",
       "    <tr>\n",
       "      <th>1</th>\n",
       "      <td>ASUS VivoBook 14 (2021) Ryzen 5 Quad Core 3500...</td>\n",
       "      <td>4.4</td>\n",
       "      <td>55</td>\n",
       "      <td>7</td>\n",
       "      <td>₹39990</td>\n",
       "      <td>₹57990</td>\n",
       "      <td>AMD Ryzen 5 Quad Core Processor</td>\n",
       "      <td>8 GB DDR4 RAM</td>\n",
       "      <td>32 bit Windows 11 Operating System</td>\n",
       "      <td>512 GB SSD</td>\n",
       "      <td>35.56 cm (14 inch) Display</td>\n",
       "    </tr>\n",
       "    <tr>\n",
       "      <th>2</th>\n",
       "      <td>ASUS Ryzen 3 Dual Core 3250U 3rd Gen - (8 GB/2...</td>\n",
       "      <td>4.3</td>\n",
       "      <td>3440</td>\n",
       "      <td>452</td>\n",
       "      <td>₹32990</td>\n",
       "      <td>₹46990</td>\n",
       "      <td>AMD Ryzen 3 Dual Core Processor (3rd Gen)</td>\n",
       "      <td>8 GB DDR4 RAM</td>\n",
       "      <td>64 bit Windows 10 Operating System</td>\n",
       "      <td>256 GB SSD</td>\n",
       "      <td>39.62 cm (15.6 inch) Display</td>\n",
       "    </tr>\n",
       "    <tr>\n",
       "      <th>3</th>\n",
       "      <td>Lenovo Ideapad Gaming 3 Ryzen 7 Octa Core 5800...</td>\n",
       "      <td>5.0</td>\n",
       "      <td>5</td>\n",
       "      <td>0</td>\n",
       "      <td>₹69990</td>\n",
       "      <td>₹112990</td>\n",
       "      <td>AMD Ryzen 7 Octa Core Processor</td>\n",
       "      <td>16 GB DDR4 RAM</td>\n",
       "      <td>64 bit Windows 11 Operating System</td>\n",
       "      <td>512 GB SSD</td>\n",
       "      <td>39.62 cm (15.6 inch) Display</td>\n",
       "    </tr>\n",
       "    <tr>\n",
       "      <th>4</th>\n",
       "      <td>Lenovo IdeaPad 3 Ryzen 5 Hexa Core 5500U - (8 ...</td>\n",
       "      <td>4.3</td>\n",
       "      <td>593</td>\n",
       "      <td>75</td>\n",
       "      <td>₹47990</td>\n",
       "      <td>₹68490</td>\n",
       "      <td>AMD Ryzen 5 Hexa Core Processor</td>\n",
       "      <td>8 GB DDR4 RAM</td>\n",
       "      <td>64 bit Windows 11 Operating System</td>\n",
       "      <td>512 GB SSD</td>\n",
       "      <td>39.62 cm (15.6 inch) Display</td>\n",
       "    </tr>\n",
       "    <tr>\n",
       "      <th>...</th>\n",
       "      <td>...</td>\n",
       "      <td>...</td>\n",
       "      <td>...</td>\n",
       "      <td>...</td>\n",
       "      <td>...</td>\n",
       "      <td>...</td>\n",
       "      <td>...</td>\n",
       "      <td>...</td>\n",
       "      <td>...</td>\n",
       "      <td>...</td>\n",
       "      <td>...</td>\n",
       "    </tr>\n",
       "    <tr>\n",
       "      <th>951</th>\n",
       "      <td>Lenovo IdeaPad Gaming 3i Core i7 10th Gen - (8...</td>\n",
       "      <td>4.4</td>\n",
       "      <td>722</td>\n",
       "      <td>117</td>\n",
       "      <td>₹83699</td>\n",
       "      <td>₹115390</td>\n",
       "      <td>Intel Core i7 Processor (10th Gen)</td>\n",
       "      <td>8 GB DDR4 RAM</td>\n",
       "      <td>64 bit Windows 10 Operating System</td>\n",
       "      <td>1 TB HDD|256 GB SSD</td>\n",
       "      <td>39.62 cm (15.6 inch) Display</td>\n",
       "    </tr>\n",
       "    <tr>\n",
       "      <th>952</th>\n",
       "      <td>DELL Vostro Core i5 11th Gen - (8 GB/512 GB SS...</td>\n",
       "      <td>4.1</td>\n",
       "      <td>381</td>\n",
       "      <td>28</td>\n",
       "      <td>₹55890</td>\n",
       "      <td>₹80711</td>\n",
       "      <td>Intel Core i5 Processor (11th Gen)</td>\n",
       "      <td>8 GB DDR4 RAM</td>\n",
       "      <td>64 bit Windows 10 Operating System</td>\n",
       "      <td>512 GB SSD</td>\n",
       "      <td>35.56 cm (14 inch) Display</td>\n",
       "    </tr>\n",
       "    <tr>\n",
       "      <th>953</th>\n",
       "      <td>ASUS ZenBook Duo 14 (2021) Touch Panel Core i7...</td>\n",
       "      <td>4.4</td>\n",
       "      <td>64</td>\n",
       "      <td>11</td>\n",
       "      <td>₹144500</td>\n",
       "      <td>₹158990</td>\n",
       "      <td>Intel Core i7 Processor (11th Gen)</td>\n",
       "      <td>16 GB LPDDR4X RAM</td>\n",
       "      <td>Windows 10 Operating System</td>\n",
       "      <td>1 TB SSD</td>\n",
       "      <td>35.56 cm (14 inch) Touchscreen Display</td>\n",
       "    </tr>\n",
       "    <tr>\n",
       "      <th>954</th>\n",
       "      <td>Lenovo Core i5 11th Gen - (8 GB/512 GB SSD/Win...</td>\n",
       "      <td>0.0</td>\n",
       "      <td>0</td>\n",
       "      <td>0</td>\n",
       "      <td>₹55999</td>\n",
       "      <td>₹84190</td>\n",
       "      <td>Intel Core i5 Processor (11th Gen)</td>\n",
       "      <td>8 GB DDR4 RAM</td>\n",
       "      <td>Windows 11 Operating System</td>\n",
       "      <td>512 GB SSD</td>\n",
       "      <td>39.62 cm (15.6 inch) Display</td>\n",
       "    </tr>\n",
       "    <tr>\n",
       "      <th>955</th>\n",
       "      <td>ASUS TUF Gaming F17 Core i5 11th Gen - (8 GB/5...</td>\n",
       "      <td>4.5</td>\n",
       "      <td>96</td>\n",
       "      <td>11</td>\n",
       "      <td>₹73990</td>\n",
       "      <td>₹105990</td>\n",
       "      <td>Intel Core i5 Processor (11th Gen)</td>\n",
       "      <td>8 GB DDR4 RAM</td>\n",
       "      <td>64 bit Windows 10 Operating System</td>\n",
       "      <td>512 GB SSD</td>\n",
       "      <td>43.94 cm (17.3 inches) Display</td>\n",
       "    </tr>\n",
       "  </tbody>\n",
       "</table>\n",
       "<p>904 rows × 11 columns</p>\n",
       "</div>"
      ],
      "text/plain": [
       "                                           ProductName  star  Ratings  \\\n",
       "0    ASUS ROG Strix G15 Ryzen 7 Octa Core 4800H - (...   4.8       13   \n",
       "1    ASUS VivoBook 14 (2021) Ryzen 5 Quad Core 3500...   4.4       55   \n",
       "2    ASUS Ryzen 3 Dual Core 3250U 3rd Gen - (8 GB/2...   4.3     3440   \n",
       "3    Lenovo Ideapad Gaming 3 Ryzen 7 Octa Core 5800...   5.0        5   \n",
       "4    Lenovo IdeaPad 3 Ryzen 5 Hexa Core 5500U - (8 ...   4.3      593   \n",
       "..                                                 ...   ...      ...   \n",
       "951  Lenovo IdeaPad Gaming 3i Core i7 10th Gen - (8...   4.4      722   \n",
       "952  DELL Vostro Core i5 11th Gen - (8 GB/512 GB SS...   4.1      381   \n",
       "953  ASUS ZenBook Duo 14 (2021) Touch Panel Core i7...   4.4       64   \n",
       "954  Lenovo Core i5 11th Gen - (8 GB/512 GB SSD/Win...   0.0        0   \n",
       "955  ASUS TUF Gaming F17 Core i5 11th Gen - (8 GB/5...   4.5       96   \n",
       "\n",
       "     Reviews Current_Price      mrp  \\\n",
       "0          0        ₹89990  ₹115990   \n",
       "1          7        ₹39990   ₹57990   \n",
       "2        452        ₹32990   ₹46990   \n",
       "3          0        ₹69990  ₹112990   \n",
       "4         75        ₹47990   ₹68490   \n",
       "..       ...           ...      ...   \n",
       "951      117        ₹83699  ₹115390   \n",
       "952       28        ₹55890   ₹80711   \n",
       "953       11       ₹144500  ₹158990   \n",
       "954        0        ₹55999   ₹84190   \n",
       "955       11        ₹73990  ₹105990   \n",
       "\n",
       "                                     Processor                RAM  \\\n",
       "0              AMD Ryzen 7 Octa Core Processor     16 GB DDR4 RAM   \n",
       "1              AMD Ryzen 5 Quad Core Processor      8 GB DDR4 RAM   \n",
       "2    AMD Ryzen 3 Dual Core Processor (3rd Gen)      8 GB DDR4 RAM   \n",
       "3              AMD Ryzen 7 Octa Core Processor     16 GB DDR4 RAM   \n",
       "4              AMD Ryzen 5 Hexa Core Processor      8 GB DDR4 RAM   \n",
       "..                                         ...                ...   \n",
       "951         Intel Core i7 Processor (10th Gen)      8 GB DDR4 RAM   \n",
       "952         Intel Core i5 Processor (11th Gen)      8 GB DDR4 RAM   \n",
       "953         Intel Core i7 Processor (11th Gen)  16 GB LPDDR4X RAM   \n",
       "954         Intel Core i5 Processor (11th Gen)      8 GB DDR4 RAM   \n",
       "955         Intel Core i5 Processor (11th Gen)      8 GB DDR4 RAM   \n",
       "\n",
       "                                     OS              Storage  \\\n",
       "0           Windows 11 Operating System             1 TB SSD   \n",
       "1    32 bit Windows 11 Operating System           512 GB SSD   \n",
       "2    64 bit Windows 10 Operating System           256 GB SSD   \n",
       "3    64 bit Windows 11 Operating System           512 GB SSD   \n",
       "4    64 bit Windows 11 Operating System           512 GB SSD   \n",
       "..                                  ...                  ...   \n",
       "951  64 bit Windows 10 Operating System  1 TB HDD|256 GB SSD   \n",
       "952  64 bit Windows 10 Operating System           512 GB SSD   \n",
       "953         Windows 10 Operating System             1 TB SSD   \n",
       "954         Windows 11 Operating System           512 GB SSD   \n",
       "955  64 bit Windows 10 Operating System           512 GB SSD   \n",
       "\n",
       "                                 ScreenSize  \n",
       "0              39.62 cm (15.6 inch) Display  \n",
       "1                35.56 cm (14 inch) Display  \n",
       "2              39.62 cm (15.6 inch) Display  \n",
       "3              39.62 cm (15.6 inch) Display  \n",
       "4              39.62 cm (15.6 inch) Display  \n",
       "..                                      ...  \n",
       "951            39.62 cm (15.6 inch) Display  \n",
       "952              35.56 cm (14 inch) Display  \n",
       "953  35.56 cm (14 inch) Touchscreen Display  \n",
       "954            39.62 cm (15.6 inch) Display  \n",
       "955          43.94 cm (17.3 inches) Display  \n",
       "\n",
       "[904 rows x 11 columns]"
      ]
     },
     "execution_count": 3,
     "metadata": {},
     "output_type": "execute_result"
    }
   ],
   "source": [
    "df.duplicated().sum()\n",
    "df.drop_duplicates()"
   ]
  },
  {
   "cell_type": "code",
   "execution_count": 4,
   "id": "c234f9ea",
   "metadata": {},
   "outputs": [],
   "source": [
    "#Extracting the Brand name of laptop\n",
    "df['ProductName'] = df['ProductName'].apply(lambda x:x.split()[0])"
   ]
  },
  {
   "cell_type": "code",
   "execution_count": 5,
   "id": "dd5ce9ee",
   "metadata": {},
   "outputs": [],
   "source": [
    "#Extracting Ram of the laptop\n",
    "df['RAM'] = df['RAM'].apply(lambda x:x.split()[0])"
   ]
  },
  {
   "cell_type": "code",
   "execution_count": 6,
   "id": "394c90d0",
   "metadata": {},
   "outputs": [],
   "source": [
    "#Extracting the Processor name of laptop\n",
    "df['Processor'] = df['Processor'].apply(lambda x:\" \".join(x.split()[0:3]))"
   ]
  },
  {
   "cell_type": "code",
   "execution_count": 7,
   "id": "3760f0b3",
   "metadata": {},
   "outputs": [
    {
     "data": {
      "text/plain": [
       "ProductName       0\n",
       "star              0\n",
       "Ratings           0\n",
       "Reviews           0\n",
       "Current_Price     0\n",
       "mrp               0\n",
       "Processor         0\n",
       "RAM               0\n",
       "OS                7\n",
       "Storage          17\n",
       "ScreenSize       26\n",
       "dtype: int64"
      ]
     },
     "execution_count": 7,
     "metadata": {},
     "output_type": "execute_result"
    }
   ],
   "source": [
    "#checking for missing value\n",
    "df.isnull().sum()"
   ]
  },
  {
   "cell_type": "code",
   "execution_count": 8,
   "id": "8ed9a449",
   "metadata": {},
   "outputs": [],
   "source": [
    "import seaborn as sns"
   ]
  },
  {
   "cell_type": "code",
   "execution_count": 9,
   "id": "2eb1b489",
   "metadata": {},
   "outputs": [
    {
     "name": "stdout",
     "output_type": "stream",
     "text": [
      "<class 'pandas.core.frame.DataFrame'>\n",
      "RangeIndex: 956 entries, 0 to 955\n",
      "Data columns (total 11 columns):\n",
      " #   Column         Non-Null Count  Dtype  \n",
      "---  ------         --------------  -----  \n",
      " 0   ProductName    956 non-null    object \n",
      " 1   star           956 non-null    float64\n",
      " 2   Ratings        956 non-null    int64  \n",
      " 3   Reviews        956 non-null    int64  \n",
      " 4   Current_Price  956 non-null    object \n",
      " 5   mrp            956 non-null    object \n",
      " 6   Processor      956 non-null    object \n",
      " 7   RAM            956 non-null    object \n",
      " 8   OS             949 non-null    object \n",
      " 9   Storage        939 non-null    object \n",
      " 10  ScreenSize     930 non-null    object \n",
      "dtypes: float64(1), int64(2), object(8)\n",
      "memory usage: 82.3+ KB\n"
     ]
    }
   ],
   "source": [
    "df.info()"
   ]
  },
  {
   "cell_type": "code",
   "execution_count": 10,
   "id": "289875ac",
   "metadata": {},
   "outputs": [],
   "source": [
    "df[\"Current_Price\"] = df[\"Current_Price\"].str.replace('₹','')\n",
    "df[\"mrp\"] = df[\"mrp\"].str.replace('₹','')"
   ]
  },
  {
   "cell_type": "code",
   "execution_count": 11,
   "id": "89dd6d07",
   "metadata": {},
   "outputs": [],
   "source": [
    "df['RAM'] = df['RAM'].astype('int32')\n",
    "df['Current_Price'] = df['Current_Price'].astype('float32')\n",
    "df['mrp'] = df['mrp'].astype('float32')"
   ]
  },
  {
   "cell_type": "code",
   "execution_count": null,
   "id": "36532415",
   "metadata": {},
   "outputs": [],
   "source": []
  },
  {
   "cell_type": "code",
   "execution_count": 12,
   "id": "88dc76b3",
   "metadata": {},
   "outputs": [
    {
     "name": "stderr",
     "output_type": "stream",
     "text": [
      "C:\\Users\\Monikesh Kakoty\\anaconda3\\lib\\site-packages\\seaborn\\distributions.py:2619: FutureWarning: `distplot` is a deprecated function and will be removed in a future version. Please adapt your code to use either `displot` (a figure-level function with similar flexibility) or `histplot` (an axes-level function for histograms).\n",
      "  warnings.warn(msg, FutureWarning)\n"
     ]
    },
    {
     "data": {
      "text/plain": [
       "<AxesSubplot:xlabel='Current_Price', ylabel='Density'>"
      ]
     },
     "execution_count": 12,
     "metadata": {},
     "output_type": "execute_result"
    },
    {
     "data": {
      "image/png": "[encoded data removed]",
      "text/plain": [
       "<Figure size 432x288 with 1 Axes>"
      ]
     },
     "metadata": {
      "needs_background": "light"
     },
     "output_type": "display_data"
    }
   ],
   "source": [
    "sns.distplot(df['Current_Price'])"
   ]
  },
  {
   "cell_type": "code",
   "execution_count": 13,
   "id": "b6321dfb",
   "metadata": {},
   "outputs": [
    {
     "data": {
      "text/plain": [
       "<AxesSubplot:>"
      ]
     },
     "execution_count": 13,
     "metadata": {},
     "output_type": "execute_result"
    },
    {
     "data": {
      "image/png": "[encoded data removed]",
      "text/plain": [
       "<Figure size 720x720 with 1 Axes>"
      ]
     },
     "metadata": {
      "needs_background": "light"
     },
     "output_type": "display_data"
    }
   ],
   "source": [
    "plt.figure(figsize=(10,10))\n",
    "df['ProductName'].value_counts().plot(kind='bar')"
   ]
  },
  {
   "cell_type": "code",
   "execution_count": null,
   "id": "1cba72f3",
   "metadata": {},
   "outputs": [],
   "source": []
  },
  {
   "cell_type": "code",
   "execution_count": 14,
   "id": "377c92e6",
   "metadata": {},
   "outputs": [
    {
     "data": {
      "image/png": "[encoded data removed]",
      "text/plain": [
       "<Figure size 720x720 with 1 Axes>"
      ]
     },
     "metadata": {
      "needs_background": "light"
     },
     "output_type": "display_data"
    }
   ],
   "source": [
    "plt.figure(figsize=(10,10))\n",
    "sns.barplot(x=df['ProductName'],y=df['Current_Price'])\n",
    "plt.xticks(rotation='vertical')\n",
    "plt.show()"
   ]
  },
  {
   "cell_type": "code",
   "execution_count": null,
   "id": "8f96607c",
   "metadata": {},
   "outputs": [],
   "source": []
  },
  {
   "cell_type": "code",
   "execution_count": null,
   "id": "cdab3d3d",
   "metadata": {},
   "outputs": [],
   "source": []
  },
  {
   "cell_type": "code",
   "execution_count": 15,
   "id": "04f99e99",
   "metadata": {},
   "outputs": [],
   "source": [
    "df = df.dropna(how='any',axis=0) "
   ]
  },
  {
   "cell_type": "code",
   "execution_count": 16,
   "id": "e60fae61",
   "metadata": {},
   "outputs": [],
   "source": [
    "df['Touchscreen'] = df['ScreenSize'].apply(lambda x:1 if 'Touchscreen' in x else 0)"
   ]
  },
  {
   "cell_type": "code",
   "execution_count": 17,
   "id": "831a8f86",
   "metadata": {},
   "outputs": [],
   "source": [
    "df['ScreenSize'] = df['ScreenSize'].apply(lambda x:\" \".join(x.split()[0:2]))"
   ]
  },
  {
   "cell_type": "code",
   "execution_count": 18,
   "id": "a57a2442",
   "metadata": {},
   "outputs": [
    {
     "data": {
      "text/html": [
       "<div>\n",
       "<style scoped>\n",
       "    .dataframe tbody tr th:only-of-type {\n",
       "        vertical-align: middle;\n",
       "    }\n",
       "\n",
       "    .dataframe tbody tr th {\n",
       "        vertical-align: top;\n",
       "    }\n",
       "\n",
       "    .dataframe thead th {\n",
       "        text-align: right;\n",
       "    }\n",
       "</style>\n",
       "<table border=\"1\" class=\"dataframe\">\n",
       "  <thead>\n",
       "    <tr style=\"text-align: right;\">\n",
       "      <th></th>\n",
       "      <th>ProductName</th>\n",
       "      <th>star</th>\n",
       "      <th>Ratings</th>\n",
       "      <th>Reviews</th>\n",
       "      <th>Current_Price</th>\n",
       "      <th>mrp</th>\n",
       "      <th>Processor</th>\n",
       "      <th>RAM</th>\n",
       "      <th>OS</th>\n",
       "      <th>Storage</th>\n",
       "      <th>ScreenSize</th>\n",
       "      <th>Touchscreen</th>\n",
       "    </tr>\n",
       "  </thead>\n",
       "  <tbody>\n",
       "    <tr>\n",
       "      <th>0</th>\n",
       "      <td>ASUS</td>\n",
       "      <td>4.8</td>\n",
       "      <td>13</td>\n",
       "      <td>0</td>\n",
       "      <td>89990.0</td>\n",
       "      <td>115990.0</td>\n",
       "      <td>AMD Ryzen 7</td>\n",
       "      <td>16</td>\n",
       "      <td>Windows 11 Operating System</td>\n",
       "      <td>1 TB SSD</td>\n",
       "      <td>39.62 cm</td>\n",
       "      <td>0</td>\n",
       "    </tr>\n",
       "    <tr>\n",
       "      <th>1</th>\n",
       "      <td>ASUS</td>\n",
       "      <td>4.4</td>\n",
       "      <td>55</td>\n",
       "      <td>7</td>\n",
       "      <td>39990.0</td>\n",
       "      <td>57990.0</td>\n",
       "      <td>AMD Ryzen 5</td>\n",
       "      <td>8</td>\n",
       "      <td>32 bit Windows 11 Operating System</td>\n",
       "      <td>512 GB SSD</td>\n",
       "      <td>35.56 cm</td>\n",
       "      <td>0</td>\n",
       "    </tr>\n",
       "    <tr>\n",
       "      <th>2</th>\n",
       "      <td>ASUS</td>\n",
       "      <td>4.3</td>\n",
       "      <td>3440</td>\n",
       "      <td>452</td>\n",
       "      <td>32990.0</td>\n",
       "      <td>46990.0</td>\n",
       "      <td>AMD Ryzen 3</td>\n",
       "      <td>8</td>\n",
       "      <td>64 bit Windows 10 Operating System</td>\n",
       "      <td>256 GB SSD</td>\n",
       "      <td>39.62 cm</td>\n",
       "      <td>0</td>\n",
       "    </tr>\n",
       "    <tr>\n",
       "      <th>3</th>\n",
       "      <td>Lenovo</td>\n",
       "      <td>5.0</td>\n",
       "      <td>5</td>\n",
       "      <td>0</td>\n",
       "      <td>69990.0</td>\n",
       "      <td>112990.0</td>\n",
       "      <td>AMD Ryzen 7</td>\n",
       "      <td>16</td>\n",
       "      <td>64 bit Windows 11 Operating System</td>\n",
       "      <td>512 GB SSD</td>\n",
       "      <td>39.62 cm</td>\n",
       "      <td>0</td>\n",
       "    </tr>\n",
       "    <tr>\n",
       "      <th>4</th>\n",
       "      <td>Lenovo</td>\n",
       "      <td>4.3</td>\n",
       "      <td>593</td>\n",
       "      <td>75</td>\n",
       "      <td>47990.0</td>\n",
       "      <td>68490.0</td>\n",
       "      <td>AMD Ryzen 5</td>\n",
       "      <td>8</td>\n",
       "      <td>64 bit Windows 11 Operating System</td>\n",
       "      <td>512 GB SSD</td>\n",
       "      <td>39.62 cm</td>\n",
       "      <td>0</td>\n",
       "    </tr>\n",
       "  </tbody>\n",
       "</table>\n",
       "</div>"
      ],
      "text/plain": [
       "  ProductName  star  Ratings  Reviews  Current_Price       mrp    Processor  \\\n",
       "0        ASUS   4.8       13        0        89990.0  115990.0  AMD Ryzen 7   \n",
       "1        ASUS   4.4       55        7        39990.0   57990.0  AMD Ryzen 5   \n",
       "2        ASUS   4.3     3440      452        32990.0   46990.0  AMD Ryzen 3   \n",
       "3      Lenovo   5.0        5        0        69990.0  112990.0  AMD Ryzen 7   \n",
       "4      Lenovo   4.3      593       75        47990.0   68490.0  AMD Ryzen 5   \n",
       "\n",
       "   RAM                                  OS     Storage ScreenSize  Touchscreen  \n",
       "0   16         Windows 11 Operating System    1 TB SSD   39.62 cm            0  \n",
       "1    8  32 bit Windows 11 Operating System  512 GB SSD   35.56 cm            0  \n",
       "2    8  64 bit Windows 10 Operating System  256 GB SSD   39.62 cm            0  \n",
       "3   16  64 bit Windows 11 Operating System  512 GB SSD   39.62 cm            0  \n",
       "4    8  64 bit Windows 11 Operating System  512 GB SSD   39.62 cm            0  "
      ]
     },
     "execution_count": 18,
     "metadata": {},
     "output_type": "execute_result"
    }
   ],
   "source": [
    "df.head()"
   ]
  },
  {
   "cell_type": "code",
   "execution_count": 19,
   "id": "1ebb9ddf",
   "metadata": {},
   "outputs": [],
   "source": [
    "df[\"ScreenSize\"] = df[\"ScreenSize\"].str.replace('cm','')"
   ]
  },
  {
   "cell_type": "code",
   "execution_count": 20,
   "id": "0e289eed",
   "metadata": {},
   "outputs": [],
   "source": [
    "df['ScreenSize'] = df['ScreenSize'].astype('float32')"
   ]
  },
  {
   "cell_type": "code",
   "execution_count": 21,
   "id": "d7b2bf47",
   "metadata": {},
   "outputs": [
    {
     "name": "stderr",
     "output_type": "stream",
     "text": [
      "C:\\Users\\Monikesh Kakoty\\anaconda3\\lib\\site-packages\\seaborn\\distributions.py:2619: FutureWarning: `distplot` is a deprecated function and will be removed in a future version. Please adapt your code to use either `displot` (a figure-level function with similar flexibility) or `histplot` (an axes-level function for histograms).\n",
      "  warnings.warn(msg, FutureWarning)\n"
     ]
    },
    {
     "data": {
      "text/plain": [
       "<AxesSubplot:xlabel='ScreenSize', ylabel='Density'>"
      ]
     },
     "execution_count": 21,
     "metadata": {},
     "output_type": "execute_result"
    },
    {
     "data": {
      "image/png": "[encoded data removed]",
      "text/plain": [
       "<Figure size 720x720 with 1 Axes>"
      ]
     },
     "metadata": {
      "needs_background": "light"
     },
     "output_type": "display_data"
    }
   ],
   "source": [
    "plt.figure(figsize=(10,10))\n",
    "sns.distplot(df['ScreenSize'])"
   ]
  },
  {
   "cell_type": "code",
   "execution_count": 22,
   "id": "39b168d0",
   "metadata": {},
   "outputs": [
    {
     "data": {
      "text/plain": [
       "<AxesSubplot:xlabel='ScreenSize', ylabel='Current_Price'>"
      ]
     },
     "execution_count": 22,
     "metadata": {},
     "output_type": "execute_result"
    },
    {
     "data": {
      "image/png": "[encoded data removed]",
      "text/plain": [
       "<Figure size 720x720 with 1 Axes>"
      ]
     },
     "metadata": {
      "needs_background": "light"
     },
     "output_type": "display_data"
    }
   ],
   "source": [
    "plt.figure(figsize=(10,10))\n",
    "sns.scatterplot(x=df['ScreenSize'],y=df['Current_Price'])"
   ]
  },
  {
   "cell_type": "code",
   "execution_count": 23,
   "id": "cdd3e6fa",
   "metadata": {},
   "outputs": [
    {
     "data": {
      "text/plain": [
       "<AxesSubplot:>"
      ]
     },
     "execution_count": 23,
     "metadata": {},
     "output_type": "execute_result"
    },
    {
     "data": {
      "image/png": "[encoded data removed]",
      "text/plain": [
       "<Figure size 432x288 with 1 Axes>"
      ]
     },
     "metadata": {
      "needs_background": "light"
     },
     "output_type": "display_data"
    }
   ],
   "source": [
    "df['Touchscreen'].value_counts().plot(kind='bar')"
   ]
  },
  {
   "cell_type": "code",
   "execution_count": 24,
   "id": "22fd35e8",
   "metadata": {},
   "outputs": [
    {
     "data": {
      "text/plain": [
       "<AxesSubplot:xlabel='Touchscreen', ylabel='Current_Price'>"
      ]
     },
     "execution_count": 24,
     "metadata": {},
     "output_type": "execute_result"
    },
    {
     "data": {
      "image/png": "[encoded data removed]",
      "text/plain": [
       "<Figure size 432x288 with 1 Axes>"
      ]
     },
     "metadata": {
      "needs_background": "light"
     },
     "output_type": "display_data"
    }
   ],
   "source": [
    "sns.barplot(x=df['Touchscreen'],y=df['Current_Price'])"
   ]
  },
  {
   "cell_type": "code",
   "execution_count": 25,
   "id": "86ee21ef",
   "metadata": {},
   "outputs": [
    {
     "data": {
      "text/plain": [
       "512 GB SSD               481\n",
       "1 TB SSD                 148\n",
       "256 GB SSD               145\n",
       "1 TB HDD|256 GB SSD       61\n",
       "1 TB HDD                  51\n",
       "2 TB SSD                  11\n",
       "128 GB SSD                 8\n",
       "1 TB HDD|512 GB SSD        4\n",
       "1 TB HDD|128 GB SSD        4\n",
       "512 GB HDD|512 GB SSD      3\n",
       "2 TB HDD                   2\n",
       "1 TB HDD|1 TB SSD          2\n",
       "500 GB HDD                 1\n",
       "Name: Storage, dtype: int64"
      ]
     },
     "execution_count": 25,
     "metadata": {},
     "output_type": "execute_result"
    }
   ],
   "source": [
    "df['Storage'].value_counts()"
   ]
  },
  {
   "cell_type": "code",
   "execution_count": null,
   "id": "057fdadf",
   "metadata": {},
   "outputs": [],
   "source": []
  },
  {
   "cell_type": "code",
   "execution_count": null,
   "id": "69b8c9e2",
   "metadata": {},
   "outputs": [],
   "source": []
  },
  {
   "cell_type": "code",
   "execution_count": 26,
   "id": "665996c1",
   "metadata": {},
   "outputs": [
    {
     "name": "stderr",
     "output_type": "stream",
     "text": [
      "C:\\Users\\Monikesh Kakoty\\AppData\\Local\\Temp\\ipykernel_31348\\1750484392.py:1: FutureWarning: The default value of regex will change from True to False in a future version. In addition, single character regular expressions will *not* be treated as literal strings when regex=True.\n",
      "  df[\"Storage\"] = df[\"Storage\"].str.replace('|', '+')\n"
     ]
    }
   ],
   "source": [
    "df[\"Storage\"] = df[\"Storage\"].str.replace('|', '+')"
   ]
  },
  {
   "cell_type": "code",
   "execution_count": 27,
   "id": "f8ee2dcd",
   "metadata": {},
   "outputs": [
    {
     "name": "stderr",
     "output_type": "stream",
     "text": [
      "C:\\Users\\Monikesh Kakoty\\AppData\\Local\\Temp\\ipykernel_31348\\1207942117.py:15: FutureWarning: The default value of regex will change from True to False in a future version.\n",
      "  df['first'] = df['first'].str.replace(r'\\D', '')\n",
      "C:\\Users\\Monikesh Kakoty\\AppData\\Local\\Temp\\ipykernel_31348\\1207942117.py:22: FutureWarning: The default value of regex will change from True to False in a future version.\n",
      "  df['second'] = df['second'].str.replace(r'\\D', '')\n"
     ]
    }
   ],
   "source": [
    "df[\"Storage\"] = df[\"Storage\"].str.strip()\n",
    "df[\"Storage\"] = df[\"Storage\"].str.replace(' ', '')\n",
    "df[\"Storage\"] = df[\"Storage\"].str.replace('GB',' ')\n",
    "df[\"Storage\"] = df[\"Storage\"].str.replace('TB', '000 ')\n",
    "new = df[\"Storage\"].str.split(\"+\", n = 1, expand = True)\n",
    "\n",
    "df[\"first\"]= new[0]\n",
    "df[\"first\"]=df[\"first\"].str.strip()\n",
    "\n",
    "df[\"second\"]= new[1]\n",
    "\n",
    "df[\"Layer1HDD\"] = df[\"first\"].apply(lambda x: 1 if \"HDD\" in x else 0)\n",
    "df[\"Layer1SSD\"] = df[\"first\"].apply(lambda x: 1 if \"SSD\" in x else 0)\n",
    "\n",
    "df['first'] = df['first'].str.replace(r'\\D', '')\n",
    "\n",
    "df[\"second\"].fillna(\"0\", inplace = True)\n",
    "\n",
    "df[\"Layer2HDD\"] = df[\"second\"].apply(lambda x: 1 if \"HDD\" in x else 0)\n",
    "df[\"Layer2SSD\"] = df[\"second\"].apply(lambda x: 1 if \"SSD\" in x else 0)\n",
    "\n",
    "df['second'] = df['second'].str.replace(r'\\D', '')\n",
    "\n",
    "df[\"first\"] = df[\"first\"].astype(int)\n",
    "df[\"second\"] = df[\"second\"].astype(int)\n",
    "\n",
    "df[\"HDD\"]=(df[\"first\"]*df[\"Layer1HDD\"]+df[\"second\"]*df[\"Layer2HDD\"])\n",
    "df[\"SSD\"]=(df[\"first\"]*df[\"Layer1SSD\"]+df[\"second\"]*df[\"Layer2SSD\"])\n",
    "df.drop(columns=['first', 'second', 'Layer1HDD', 'Layer1SSD', 'Layer2HDD', 'Layer2SSD'],inplace=True)"
   ]
  },
  {
   "cell_type": "code",
   "execution_count": 28,
   "id": "dbb796b0",
   "metadata": {},
   "outputs": [
    {
     "data": {
      "text/html": [
       "<div>\n",
       "<style scoped>\n",
       "    .dataframe tbody tr th:only-of-type {\n",
       "        vertical-align: middle;\n",
       "    }\n",
       "\n",
       "    .dataframe tbody tr th {\n",
       "        vertical-align: top;\n",
       "    }\n",
       "\n",
       "    .dataframe thead th {\n",
       "        text-align: right;\n",
       "    }\n",
       "</style>\n",
       "<table border=\"1\" class=\"dataframe\">\n",
       "  <thead>\n",
       "    <tr style=\"text-align: right;\">\n",
       "      <th></th>\n",
       "      <th>ProductName</th>\n",
       "      <th>star</th>\n",
       "      <th>Ratings</th>\n",
       "      <th>Reviews</th>\n",
       "      <th>Current_Price</th>\n",
       "      <th>mrp</th>\n",
       "      <th>Processor</th>\n",
       "      <th>RAM</th>\n",
       "      <th>OS</th>\n",
       "      <th>Storage</th>\n",
       "      <th>ScreenSize</th>\n",
       "      <th>Touchscreen</th>\n",
       "      <th>HDD</th>\n",
       "      <th>SSD</th>\n",
       "    </tr>\n",
       "  </thead>\n",
       "  <tbody>\n",
       "    <tr>\n",
       "      <th>0</th>\n",
       "      <td>ASUS</td>\n",
       "      <td>4.8</td>\n",
       "      <td>13</td>\n",
       "      <td>0</td>\n",
       "      <td>89990.0</td>\n",
       "      <td>115990.0</td>\n",
       "      <td>AMD Ryzen 7</td>\n",
       "      <td>16</td>\n",
       "      <td>Windows 11 Operating System</td>\n",
       "      <td>1000 SSD</td>\n",
       "      <td>39.619999</td>\n",
       "      <td>0</td>\n",
       "      <td>0</td>\n",
       "      <td>1000</td>\n",
       "    </tr>\n",
       "    <tr>\n",
       "      <th>1</th>\n",
       "      <td>ASUS</td>\n",
       "      <td>4.4</td>\n",
       "      <td>55</td>\n",
       "      <td>7</td>\n",
       "      <td>39990.0</td>\n",
       "      <td>57990.0</td>\n",
       "      <td>AMD Ryzen 5</td>\n",
       "      <td>8</td>\n",
       "      <td>32 bit Windows 11 Operating System</td>\n",
       "      <td>512 SSD</td>\n",
       "      <td>35.560001</td>\n",
       "      <td>0</td>\n",
       "      <td>0</td>\n",
       "      <td>512</td>\n",
       "    </tr>\n",
       "    <tr>\n",
       "      <th>2</th>\n",
       "      <td>ASUS</td>\n",
       "      <td>4.3</td>\n",
       "      <td>3440</td>\n",
       "      <td>452</td>\n",
       "      <td>32990.0</td>\n",
       "      <td>46990.0</td>\n",
       "      <td>AMD Ryzen 3</td>\n",
       "      <td>8</td>\n",
       "      <td>64 bit Windows 10 Operating System</td>\n",
       "      <td>256 SSD</td>\n",
       "      <td>39.619999</td>\n",
       "      <td>0</td>\n",
       "      <td>0</td>\n",
       "      <td>256</td>\n",
       "    </tr>\n",
       "    <tr>\n",
       "      <th>3</th>\n",
       "      <td>Lenovo</td>\n",
       "      <td>5.0</td>\n",
       "      <td>5</td>\n",
       "      <td>0</td>\n",
       "      <td>69990.0</td>\n",
       "      <td>112990.0</td>\n",
       "      <td>AMD Ryzen 7</td>\n",
       "      <td>16</td>\n",
       "      <td>64 bit Windows 11 Operating System</td>\n",
       "      <td>512 SSD</td>\n",
       "      <td>39.619999</td>\n",
       "      <td>0</td>\n",
       "      <td>0</td>\n",
       "      <td>512</td>\n",
       "    </tr>\n",
       "    <tr>\n",
       "      <th>4</th>\n",
       "      <td>Lenovo</td>\n",
       "      <td>4.3</td>\n",
       "      <td>593</td>\n",
       "      <td>75</td>\n",
       "      <td>47990.0</td>\n",
       "      <td>68490.0</td>\n",
       "      <td>AMD Ryzen 5</td>\n",
       "      <td>8</td>\n",
       "      <td>64 bit Windows 11 Operating System</td>\n",
       "      <td>512 SSD</td>\n",
       "      <td>39.619999</td>\n",
       "      <td>0</td>\n",
       "      <td>0</td>\n",
       "      <td>512</td>\n",
       "    </tr>\n",
       "  </tbody>\n",
       "</table>\n",
       "</div>"
      ],
      "text/plain": [
       "  ProductName  star  Ratings  Reviews  Current_Price       mrp    Processor  \\\n",
       "0        ASUS   4.8       13        0        89990.0  115990.0  AMD Ryzen 7   \n",
       "1        ASUS   4.4       55        7        39990.0   57990.0  AMD Ryzen 5   \n",
       "2        ASUS   4.3     3440      452        32990.0   46990.0  AMD Ryzen 3   \n",
       "3      Lenovo   5.0        5        0        69990.0  112990.0  AMD Ryzen 7   \n",
       "4      Lenovo   4.3      593       75        47990.0   68490.0  AMD Ryzen 5   \n",
       "\n",
       "   RAM                                  OS   Storage  ScreenSize  Touchscreen  \\\n",
       "0   16         Windows 11 Operating System  1000 SSD   39.619999            0   \n",
       "1    8  32 bit Windows 11 Operating System   512 SSD   35.560001            0   \n",
       "2    8  64 bit Windows 10 Operating System   256 SSD   39.619999            0   \n",
       "3   16  64 bit Windows 11 Operating System   512 SSD   39.619999            0   \n",
       "4    8  64 bit Windows 11 Operating System   512 SSD   39.619999            0   \n",
       "\n",
       "   HDD   SSD  \n",
       "0    0  1000  \n",
       "1    0   512  \n",
       "2    0   256  \n",
       "3    0   512  \n",
       "4    0   512  "
      ]
     },
     "execution_count": 28,
     "metadata": {},
     "output_type": "execute_result"
    }
   ],
   "source": [
    "df.head(5)"
   ]
  },
  {
   "cell_type": "code",
   "execution_count": null,
   "id": "0f18a1e7",
   "metadata": {},
   "outputs": [],
   "source": []
  },
  {
   "cell_type": "code",
   "execution_count": 29,
   "id": "2ac69424",
   "metadata": {},
   "outputs": [
    {
     "data": {
      "text/plain": [
       "<AxesSubplot:>"
      ]
     },
     "execution_count": 29,
     "metadata": {},
     "output_type": "execute_result"
    },
    {
     "data": {
      "image/png": "[encoded data removed]",
      "text/plain": [
       "<Figure size 432x288 with 1 Axes>"
      ]
     },
     "metadata": {
      "needs_background": "light"
     },
     "output_type": "display_data"
    }
   ],
   "source": [
    "df['RAM'].value_counts().plot(kind='bar')"
   ]
  },
  {
   "cell_type": "code",
   "execution_count": 30,
   "id": "f083cb07",
   "metadata": {},
   "outputs": [
    {
     "data": {
      "image/png": "[encoded data removed]",
      "text/plain": [
       "<Figure size 432x288 with 1 Axes>"
      ]
     },
     "metadata": {
      "needs_background": "light"
     },
     "output_type": "display_data"
    }
   ],
   "source": [
    "sns.barplot(x=df['RAM'],y=df['Current_Price'])\n",
    "plt.xticks(rotation='vertical')\n",
    "plt.show()"
   ]
  },
  {
   "cell_type": "code",
   "execution_count": 31,
   "id": "edc396a8",
   "metadata": {},
   "outputs": [
    {
     "data": {
      "text/plain": [
       "64 bit Windows 11 Operating System    423\n",
       "64 bit Windows 10 Operating System    324\n",
       "Windows 11 Operating System            89\n",
       "Windows 10 Operating System            42\n",
       "Mac OS Operating System                26\n",
       "DOS Operating System                   11\n",
       "Linux/Ubuntu Operating System           2\n",
       "32 bit Windows 11 Operating System      1\n",
       "64 bit DOS Operating System             1\n",
       "64 bit Mac OS Operating System          1\n",
       "64 bit Windows 8 Operating System       1\n",
       "Name: OS, dtype: int64"
      ]
     },
     "execution_count": 31,
     "metadata": {},
     "output_type": "execute_result"
    }
   ],
   "source": [
    "df['OS'].value_counts()"
   ]
  },
  {
   "cell_type": "code",
   "execution_count": null,
   "id": "4c905ded",
   "metadata": {},
   "outputs": [],
   "source": []
  },
  {
   "cell_type": "code",
   "execution_count": 32,
   "id": "cd4f4a4e",
   "metadata": {},
   "outputs": [],
   "source": [
    "df[\"OS\"] = df[\"OS\"].str.replace('Operating System','')"
   ]
  },
  {
   "cell_type": "code",
   "execution_count": 33,
   "id": "95f4ad3f",
   "metadata": {},
   "outputs": [],
   "source": [
    "df[\"OS\"] = df[\"OS\"].str.replace('64 bit','')\n",
    "df[\"OS\"] = df[\"OS\"].str.replace('32 bit','')\n",
    "df[\"OS\"] = df[\"OS\"].str.replace(' ','')"
   ]
  },
  {
   "cell_type": "code",
   "execution_count": 34,
   "id": "e535d60d",
   "metadata": {},
   "outputs": [],
   "source": [
    "df[\"OS\"] = df[\"OS\"].str.replace('11','')\n",
    "df[\"OS\"] = df[\"OS\"].str.replace('10','')\n",
    "df[\"OS\"] = df[\"OS\"].str.replace('8','')"
   ]
  },
  {
   "cell_type": "code",
   "execution_count": 35,
   "id": "be404682",
   "metadata": {},
   "outputs": [
    {
     "data": {
      "text/plain": [
       "Windows         880\n",
       "MacOS            27\n",
       "DOS              12\n",
       "Linux/Ubuntu      2\n",
       "Name: OS, dtype: int64"
      ]
     },
     "execution_count": 35,
     "metadata": {},
     "output_type": "execute_result"
    }
   ],
   "source": [
    "df['OS'].value_counts()"
   ]
  },
  {
   "cell_type": "code",
   "execution_count": 36,
   "id": "5ff06df0",
   "metadata": {},
   "outputs": [
    {
     "data": {
      "image/png": "[encoded data removed]",
      "text/plain": [
       "<Figure size 432x288 with 1 Axes>"
      ]
     },
     "metadata": {
      "needs_background": "light"
     },
     "output_type": "display_data"
    }
   ],
   "source": [
    "sns.barplot(x=df['OS'],y=df['Current_Price'])\n",
    "plt.xticks(rotation='vertical')\n",
    "plt.show()"
   ]
  },
  {
   "cell_type": "code",
   "execution_count": 37,
   "id": "417067ec",
   "metadata": {},
   "outputs": [],
   "source": [
    "def cat_os(inp):\n",
    "    if inp == 'Windows':\n",
    "        return 'Windows'\n",
    "    elif inp == 'MacOS':\n",
    "        return 'Mac'\n",
    "    else:\n",
    "        return 'Others'"
   ]
  },
  {
   "cell_type": "code",
   "execution_count": 38,
   "id": "29745213",
   "metadata": {},
   "outputs": [],
   "source": [
    "df['os'] = df['OS'].apply(cat_os)"
   ]
  },
  {
   "cell_type": "code",
   "execution_count": null,
   "id": "8c382987",
   "metadata": {},
   "outputs": [],
   "source": []
  },
  {
   "cell_type": "code",
   "execution_count": 39,
   "id": "8585122d",
   "metadata": {},
   "outputs": [
    {
     "data": {
      "text/plain": [
       "star            -0.339124\n",
       "Ratings         -0.127087\n",
       "Reviews         -0.130300\n",
       "Current_Price    1.000000\n",
       "mrp              0.732628\n",
       "RAM              0.748204\n",
       "ScreenSize       0.010890\n",
       "Touchscreen      0.200555\n",
       "HDD             -0.159297\n",
       "SSD              0.722246\n",
       "Name: Current_Price, dtype: float64"
      ]
     },
     "execution_count": 39,
     "metadata": {},
     "output_type": "execute_result"
    }
   ],
   "source": [
    "df.corr()['Current_Price']"
   ]
  },
  {
   "cell_type": "code",
   "execution_count": 40,
   "id": "d751a2ea",
   "metadata": {},
   "outputs": [
    {
     "data": {
      "text/plain": [
       "<AxesSubplot:>"
      ]
     },
     "execution_count": 40,
     "metadata": {},
     "output_type": "execute_result"
    },
    {
     "data": {
      "image/png": "[encoded data removed]",
      "text/plain": [
       "<Figure size 432x288 with 2 Axes>"
      ]
     },
     "metadata": {
      "needs_background": "light"
     },
     "output_type": "display_data"
    }
   ],
   "source": [
    "sns.heatmap(df.corr())"
   ]
  },
  {
   "cell_type": "code",
   "execution_count": 41,
   "id": "d49030fe",
   "metadata": {},
   "outputs": [
    {
     "name": "stderr",
     "output_type": "stream",
     "text": [
      "C:\\Users\\Monikesh Kakoty\\anaconda3\\lib\\site-packages\\seaborn\\distributions.py:2619: FutureWarning: `distplot` is a deprecated function and will be removed in a future version. Please adapt your code to use either `displot` (a figure-level function with similar flexibility) or `histplot` (an axes-level function for histograms).\n",
      "  warnings.warn(msg, FutureWarning)\n"
     ]
    },
    {
     "data": {
      "text/plain": [
       "<AxesSubplot:xlabel='Current_Price', ylabel='Density'>"
      ]
     },
     "execution_count": 41,
     "metadata": {},
     "output_type": "execute_result"
    },
    {
     "data": {
      "image/png": "[encoded data removed]",
      "text/plain": [
       "<Figure size 432x288 with 1 Axes>"
      ]
     },
     "metadata": {
      "needs_background": "light"
     },
     "output_type": "display_data"
    }
   ],
   "source": [
    "sns.distplot(np.log(df['Current_Price']))"
   ]
  },
  {
   "cell_type": "code",
   "execution_count": null,
   "id": "120b25aa",
   "metadata": {},
   "outputs": [],
   "source": []
  },
  {
   "cell_type": "code",
   "execution_count": null,
   "id": "c62557b2",
   "metadata": {},
   "outputs": [],
   "source": []
  },
  {
   "cell_type": "code",
   "execution_count": 42,
   "id": "ac70e03e",
   "metadata": {},
   "outputs": [
    {
     "data": {
      "text/html": [
       "<div>\n",
       "<style scoped>\n",
       "    .dataframe tbody tr th:only-of-type {\n",
       "        vertical-align: middle;\n",
       "    }\n",
       "\n",
       "    .dataframe tbody tr th {\n",
       "        vertical-align: top;\n",
       "    }\n",
       "\n",
       "    .dataframe thead th {\n",
       "        text-align: right;\n",
       "    }\n",
       "</style>\n",
       "<table border=\"1\" class=\"dataframe\">\n",
       "  <thead>\n",
       "    <tr style=\"text-align: right;\">\n",
       "      <th></th>\n",
       "      <th>ProductName</th>\n",
       "      <th>star</th>\n",
       "      <th>Ratings</th>\n",
       "      <th>Reviews</th>\n",
       "      <th>Current_Price</th>\n",
       "      <th>mrp</th>\n",
       "      <th>Processor</th>\n",
       "      <th>RAM</th>\n",
       "      <th>OS</th>\n",
       "      <th>Storage</th>\n",
       "      <th>ScreenSize</th>\n",
       "      <th>Touchscreen</th>\n",
       "      <th>HDD</th>\n",
       "      <th>SSD</th>\n",
       "      <th>os</th>\n",
       "    </tr>\n",
       "  </thead>\n",
       "  <tbody>\n",
       "    <tr>\n",
       "      <th>0</th>\n",
       "      <td>ASUS</td>\n",
       "      <td>4.8</td>\n",
       "      <td>13</td>\n",
       "      <td>0</td>\n",
       "      <td>89990.0</td>\n",
       "      <td>115990.0</td>\n",
       "      <td>AMD Ryzen 7</td>\n",
       "      <td>16</td>\n",
       "      <td>Windows</td>\n",
       "      <td>1000 SSD</td>\n",
       "      <td>39.619999</td>\n",
       "      <td>0</td>\n",
       "      <td>0</td>\n",
       "      <td>1000</td>\n",
       "      <td>Windows</td>\n",
       "    </tr>\n",
       "    <tr>\n",
       "      <th>1</th>\n",
       "      <td>ASUS</td>\n",
       "      <td>4.4</td>\n",
       "      <td>55</td>\n",
       "      <td>7</td>\n",
       "      <td>39990.0</td>\n",
       "      <td>57990.0</td>\n",
       "      <td>AMD Ryzen 5</td>\n",
       "      <td>8</td>\n",
       "      <td>Windows</td>\n",
       "      <td>512 SSD</td>\n",
       "      <td>35.560001</td>\n",
       "      <td>0</td>\n",
       "      <td>0</td>\n",
       "      <td>512</td>\n",
       "      <td>Windows</td>\n",
       "    </tr>\n",
       "    <tr>\n",
       "      <th>2</th>\n",
       "      <td>ASUS</td>\n",
       "      <td>4.3</td>\n",
       "      <td>3440</td>\n",
       "      <td>452</td>\n",
       "      <td>32990.0</td>\n",
       "      <td>46990.0</td>\n",
       "      <td>AMD Ryzen 3</td>\n",
       "      <td>8</td>\n",
       "      <td>Windows</td>\n",
       "      <td>256 SSD</td>\n",
       "      <td>39.619999</td>\n",
       "      <td>0</td>\n",
       "      <td>0</td>\n",
       "      <td>256</td>\n",
       "      <td>Windows</td>\n",
       "    </tr>\n",
       "    <tr>\n",
       "      <th>3</th>\n",
       "      <td>Lenovo</td>\n",
       "      <td>5.0</td>\n",
       "      <td>5</td>\n",
       "      <td>0</td>\n",
       "      <td>69990.0</td>\n",
       "      <td>112990.0</td>\n",
       "      <td>AMD Ryzen 7</td>\n",
       "      <td>16</td>\n",
       "      <td>Windows</td>\n",
       "      <td>512 SSD</td>\n",
       "      <td>39.619999</td>\n",
       "      <td>0</td>\n",
       "      <td>0</td>\n",
       "      <td>512</td>\n",
       "      <td>Windows</td>\n",
       "    </tr>\n",
       "    <tr>\n",
       "      <th>4</th>\n",
       "      <td>Lenovo</td>\n",
       "      <td>4.3</td>\n",
       "      <td>593</td>\n",
       "      <td>75</td>\n",
       "      <td>47990.0</td>\n",
       "      <td>68490.0</td>\n",
       "      <td>AMD Ryzen 5</td>\n",
       "      <td>8</td>\n",
       "      <td>Windows</td>\n",
       "      <td>512 SSD</td>\n",
       "      <td>39.619999</td>\n",
       "      <td>0</td>\n",
       "      <td>0</td>\n",
       "      <td>512</td>\n",
       "      <td>Windows</td>\n",
       "    </tr>\n",
       "  </tbody>\n",
       "</table>\n",
       "</div>"
      ],
      "text/plain": [
       "  ProductName  star  Ratings  Reviews  Current_Price       mrp    Processor  \\\n",
       "0        ASUS   4.8       13        0        89990.0  115990.0  AMD Ryzen 7   \n",
       "1        ASUS   4.4       55        7        39990.0   57990.0  AMD Ryzen 5   \n",
       "2        ASUS   4.3     3440      452        32990.0   46990.0  AMD Ryzen 3   \n",
       "3      Lenovo   5.0        5        0        69990.0  112990.0  AMD Ryzen 7   \n",
       "4      Lenovo   4.3      593       75        47990.0   68490.0  AMD Ryzen 5   \n",
       "\n",
       "   RAM       OS   Storage  ScreenSize  Touchscreen  HDD   SSD       os  \n",
       "0   16  Windows  1000 SSD   39.619999            0    0  1000  Windows  \n",
       "1    8  Windows   512 SSD   35.560001            0    0   512  Windows  \n",
       "2    8  Windows   256 SSD   39.619999            0    0   256  Windows  \n",
       "3   16  Windows   512 SSD   39.619999            0    0   512  Windows  \n",
       "4    8  Windows   512 SSD   39.619999            0    0   512  Windows  "
      ]
     },
     "execution_count": 42,
     "metadata": {},
     "output_type": "execute_result"
    }
   ],
   "source": [
    "df.head()"
   ]
  },
  {
   "cell_type": "code",
   "execution_count": 43,
   "id": "11bc311c",
   "metadata": {},
   "outputs": [],
   "source": [
    "df=df.drop(['OS','mrp','Storage','Reviews','Ratings'], axis=1)"
   ]
  },
  {
   "cell_type": "code",
   "execution_count": 44,
   "id": "3da8e7f9",
   "metadata": {},
   "outputs": [
    {
     "data": {
      "text/html": [
       "<div>\n",
       "<style scoped>\n",
       "    .dataframe tbody tr th:only-of-type {\n",
       "        vertical-align: middle;\n",
       "    }\n",
       "\n",
       "    .dataframe tbody tr th {\n",
       "        vertical-align: top;\n",
       "    }\n",
       "\n",
       "    .dataframe thead th {\n",
       "        text-align: right;\n",
       "    }\n",
       "</style>\n",
       "<table border=\"1\" class=\"dataframe\">\n",
       "  <thead>\n",
       "    <tr style=\"text-align: right;\">\n",
       "      <th></th>\n",
       "      <th>ProductName</th>\n",
       "      <th>star</th>\n",
       "      <th>Current_Price</th>\n",
       "      <th>Processor</th>\n",
       "      <th>RAM</th>\n",
       "      <th>ScreenSize</th>\n",
       "      <th>Touchscreen</th>\n",
       "      <th>HDD</th>\n",
       "      <th>SSD</th>\n",
       "      <th>os</th>\n",
       "    </tr>\n",
       "  </thead>\n",
       "  <tbody>\n",
       "    <tr>\n",
       "      <th>0</th>\n",
       "      <td>ASUS</td>\n",
       "      <td>4.8</td>\n",
       "      <td>89990.0</td>\n",
       "      <td>AMD Ryzen 7</td>\n",
       "      <td>16</td>\n",
       "      <td>39.619999</td>\n",
       "      <td>0</td>\n",
       "      <td>0</td>\n",
       "      <td>1000</td>\n",
       "      <td>Windows</td>\n",
       "    </tr>\n",
       "    <tr>\n",
       "      <th>1</th>\n",
       "      <td>ASUS</td>\n",
       "      <td>4.4</td>\n",
       "      <td>39990.0</td>\n",
       "      <td>AMD Ryzen 5</td>\n",
       "      <td>8</td>\n",
       "      <td>35.560001</td>\n",
       "      <td>0</td>\n",
       "      <td>0</td>\n",
       "      <td>512</td>\n",
       "      <td>Windows</td>\n",
       "    </tr>\n",
       "    <tr>\n",
       "      <th>2</th>\n",
       "      <td>ASUS</td>\n",
       "      <td>4.3</td>\n",
       "      <td>32990.0</td>\n",
       "      <td>AMD Ryzen 3</td>\n",
       "      <td>8</td>\n",
       "      <td>39.619999</td>\n",
       "      <td>0</td>\n",
       "      <td>0</td>\n",
       "      <td>256</td>\n",
       "      <td>Windows</td>\n",
       "    </tr>\n",
       "    <tr>\n",
       "      <th>3</th>\n",
       "      <td>Lenovo</td>\n",
       "      <td>5.0</td>\n",
       "      <td>69990.0</td>\n",
       "      <td>AMD Ryzen 7</td>\n",
       "      <td>16</td>\n",
       "      <td>39.619999</td>\n",
       "      <td>0</td>\n",
       "      <td>0</td>\n",
       "      <td>512</td>\n",
       "      <td>Windows</td>\n",
       "    </tr>\n",
       "    <tr>\n",
       "      <th>4</th>\n",
       "      <td>Lenovo</td>\n",
       "      <td>4.3</td>\n",
       "      <td>47990.0</td>\n",
       "      <td>AMD Ryzen 5</td>\n",
       "      <td>8</td>\n",
       "      <td>39.619999</td>\n",
       "      <td>0</td>\n",
       "      <td>0</td>\n",
       "      <td>512</td>\n",
       "      <td>Windows</td>\n",
       "    </tr>\n",
       "  </tbody>\n",
       "</table>\n",
       "</div>"
      ],
      "text/plain": [
       "  ProductName  star  Current_Price    Processor  RAM  ScreenSize  Touchscreen  \\\n",
       "0        ASUS   4.8        89990.0  AMD Ryzen 7   16   39.619999            0   \n",
       "1        ASUS   4.4        39990.0  AMD Ryzen 5    8   35.560001            0   \n",
       "2        ASUS   4.3        32990.0  AMD Ryzen 3    8   39.619999            0   \n",
       "3      Lenovo   5.0        69990.0  AMD Ryzen 7   16   39.619999            0   \n",
       "4      Lenovo   4.3        47990.0  AMD Ryzen 5    8   39.619999            0   \n",
       "\n",
       "   HDD   SSD       os  \n",
       "0    0  1000  Windows  \n",
       "1    0   512  Windows  \n",
       "2    0   256  Windows  \n",
       "3    0   512  Windows  \n",
       "4    0   512  Windows  "
      ]
     },
     "execution_count": 44,
     "metadata": {},
     "output_type": "execute_result"
    }
   ],
   "source": [
    "df.head()"
   ]
  },
  {
   "cell_type": "code",
   "execution_count": 45,
   "id": "aafaa7c1",
   "metadata": {},
   "outputs": [
    {
     "data": {
      "text/plain": [
       "Intel Core i5           289\n",
       "Intel Core i3           160\n",
       "Intel Core i7           131\n",
       "AMD Ryzen 5              90\n",
       "AMD Ryzen 7              78\n",
       "AMD Ryzen 3              44\n",
       "AMD Ryzen 9              42\n",
       "Intel Core i9            15\n",
       "Intel Celeron Dual       12\n",
       "Intel Pentium Quad       11\n",
       "Apple M2 Processor       11\n",
       "AMD Athlon Dual           8\n",
       "Apple M1 Pro              7\n",
       "Intel Pentium Silver      6\n",
       "Apple M1 Processor        5\n",
       "Intel Celeron Quad        5\n",
       "Intel Hexa Core           2\n",
       "Apple M1 Max              2\n",
       "AMD APU Dual              2\n",
       "AMD Dual Core             1\n",
       "Name: Processor, dtype: int64"
      ]
     },
     "execution_count": 45,
     "metadata": {},
     "output_type": "execute_result"
    }
   ],
   "source": [
    "df['Processor'].value_counts()"
   ]
  },
  {
   "cell_type": "code",
   "execution_count": 46,
   "id": "c9e671ee",
   "metadata": {},
   "outputs": [
    {
     "data": {
      "image/png": "[encoded data removed]",
      "text/plain": [
       "<Figure size 720x720 with 1 Axes>"
      ]
     },
     "metadata": {
      "needs_background": "light"
     },
     "output_type": "display_data"
    }
   ],
   "source": [
    "plt.figure(figsize=(10,10))\n",
    "sns.barplot(x=df['Processor'],y=df['Current_Price'],estimator=np.median)\n",
    "plt.xticks(rotation='vertical')\n",
    "plt.show()"
   ]
  },
  {
   "cell_type": "code",
   "execution_count": null,
   "id": "82f6e55e",
   "metadata": {},
   "outputs": [],
   "source": []
  },
  {
   "cell_type": "code",
   "execution_count": 47,
   "id": "75b93a8d",
   "metadata": {},
   "outputs": [],
   "source": [
    "X = df.drop(columns=['Current_Price'])\n",
    "y = np.log(df['Current_Price'])"
   ]
  },
  {
   "cell_type": "code",
   "execution_count": 48,
   "id": "609afc07",
   "metadata": {},
   "outputs": [
    {
     "data": {
      "text/html": [
       "<div>\n",
       "<style scoped>\n",
       "    .dataframe tbody tr th:only-of-type {\n",
       "        vertical-align: middle;\n",
       "    }\n",
       "\n",
       "    .dataframe tbody tr th {\n",
       "        vertical-align: top;\n",
       "    }\n",
       "\n",
       "    .dataframe thead th {\n",
       "        text-align: right;\n",
       "    }\n",
       "</style>\n",
       "<table border=\"1\" class=\"dataframe\">\n",
       "  <thead>\n",
       "    <tr style=\"text-align: right;\">\n",
       "      <th></th>\n",
       "      <th>ProductName</th>\n",
       "      <th>star</th>\n",
       "      <th>Processor</th>\n",
       "      <th>RAM</th>\n",
       "      <th>ScreenSize</th>\n",
       "      <th>Touchscreen</th>\n",
       "      <th>HDD</th>\n",
       "      <th>SSD</th>\n",
       "      <th>os</th>\n",
       "    </tr>\n",
       "  </thead>\n",
       "  <tbody>\n",
       "    <tr>\n",
       "      <th>0</th>\n",
       "      <td>ASUS</td>\n",
       "      <td>4.8</td>\n",
       "      <td>AMD Ryzen 7</td>\n",
       "      <td>16</td>\n",
       "      <td>39.619999</td>\n",
       "      <td>0</td>\n",
       "      <td>0</td>\n",
       "      <td>1000</td>\n",
       "      <td>Windows</td>\n",
       "    </tr>\n",
       "    <tr>\n",
       "      <th>1</th>\n",
       "      <td>ASUS</td>\n",
       "      <td>4.4</td>\n",
       "      <td>AMD Ryzen 5</td>\n",
       "      <td>8</td>\n",
       "      <td>35.560001</td>\n",
       "      <td>0</td>\n",
       "      <td>0</td>\n",
       "      <td>512</td>\n",
       "      <td>Windows</td>\n",
       "    </tr>\n",
       "    <tr>\n",
       "      <th>2</th>\n",
       "      <td>ASUS</td>\n",
       "      <td>4.3</td>\n",
       "      <td>AMD Ryzen 3</td>\n",
       "      <td>8</td>\n",
       "      <td>39.619999</td>\n",
       "      <td>0</td>\n",
       "      <td>0</td>\n",
       "      <td>256</td>\n",
       "      <td>Windows</td>\n",
       "    </tr>\n",
       "    <tr>\n",
       "      <th>3</th>\n",
       "      <td>Lenovo</td>\n",
       "      <td>5.0</td>\n",
       "      <td>AMD Ryzen 7</td>\n",
       "      <td>16</td>\n",
       "      <td>39.619999</td>\n",
       "      <td>0</td>\n",
       "      <td>0</td>\n",
       "      <td>512</td>\n",
       "      <td>Windows</td>\n",
       "    </tr>\n",
       "    <tr>\n",
       "      <th>4</th>\n",
       "      <td>Lenovo</td>\n",
       "      <td>4.3</td>\n",
       "      <td>AMD Ryzen 5</td>\n",
       "      <td>8</td>\n",
       "      <td>39.619999</td>\n",
       "      <td>0</td>\n",
       "      <td>0</td>\n",
       "      <td>512</td>\n",
       "      <td>Windows</td>\n",
       "    </tr>\n",
       "    <tr>\n",
       "      <th>...</th>\n",
       "      <td>...</td>\n",
       "      <td>...</td>\n",
       "      <td>...</td>\n",
       "      <td>...</td>\n",
       "      <td>...</td>\n",
       "      <td>...</td>\n",
       "      <td>...</td>\n",
       "      <td>...</td>\n",
       "      <td>...</td>\n",
       "    </tr>\n",
       "    <tr>\n",
       "      <th>951</th>\n",
       "      <td>Lenovo</td>\n",
       "      <td>4.4</td>\n",
       "      <td>Intel Core i7</td>\n",
       "      <td>8</td>\n",
       "      <td>39.619999</td>\n",
       "      <td>0</td>\n",
       "      <td>1000</td>\n",
       "      <td>256</td>\n",
       "      <td>Windows</td>\n",
       "    </tr>\n",
       "    <tr>\n",
       "      <th>952</th>\n",
       "      <td>DELL</td>\n",
       "      <td>4.1</td>\n",
       "      <td>Intel Core i5</td>\n",
       "      <td>8</td>\n",
       "      <td>35.560001</td>\n",
       "      <td>0</td>\n",
       "      <td>0</td>\n",
       "      <td>512</td>\n",
       "      <td>Windows</td>\n",
       "    </tr>\n",
       "    <tr>\n",
       "      <th>953</th>\n",
       "      <td>ASUS</td>\n",
       "      <td>4.4</td>\n",
       "      <td>Intel Core i7</td>\n",
       "      <td>16</td>\n",
       "      <td>35.560001</td>\n",
       "      <td>1</td>\n",
       "      <td>0</td>\n",
       "      <td>1000</td>\n",
       "      <td>Windows</td>\n",
       "    </tr>\n",
       "    <tr>\n",
       "      <th>954</th>\n",
       "      <td>Lenovo</td>\n",
       "      <td>0.0</td>\n",
       "      <td>Intel Core i5</td>\n",
       "      <td>8</td>\n",
       "      <td>39.619999</td>\n",
       "      <td>0</td>\n",
       "      <td>0</td>\n",
       "      <td>512</td>\n",
       "      <td>Windows</td>\n",
       "    </tr>\n",
       "    <tr>\n",
       "      <th>955</th>\n",
       "      <td>ASUS</td>\n",
       "      <td>4.5</td>\n",
       "      <td>Intel Core i5</td>\n",
       "      <td>8</td>\n",
       "      <td>43.939999</td>\n",
       "      <td>0</td>\n",
       "      <td>0</td>\n",
       "      <td>512</td>\n",
       "      <td>Windows</td>\n",
       "    </tr>\n",
       "  </tbody>\n",
       "</table>\n",
       "<p>921 rows × 9 columns</p>\n",
       "</div>"
      ],
      "text/plain": [
       "    ProductName  star      Processor  RAM  ScreenSize  Touchscreen   HDD  \\\n",
       "0          ASUS   4.8    AMD Ryzen 7   16   39.619999            0     0   \n",
       "1          ASUS   4.4    AMD Ryzen 5    8   35.560001            0     0   \n",
       "2          ASUS   4.3    AMD Ryzen 3    8   39.619999            0     0   \n",
       "3        Lenovo   5.0    AMD Ryzen 7   16   39.619999            0     0   \n",
       "4        Lenovo   4.3    AMD Ryzen 5    8   39.619999            0     0   \n",
       "..          ...   ...            ...  ...         ...          ...   ...   \n",
       "951      Lenovo   4.4  Intel Core i7    8   39.619999            0  1000   \n",
       "952        DELL   4.1  Intel Core i5    8   35.560001            0     0   \n",
       "953        ASUS   4.4  Intel Core i7   16   35.560001            1     0   \n",
       "954      Lenovo   0.0  Intel Core i5    8   39.619999            0     0   \n",
       "955        ASUS   4.5  Intel Core i5    8   43.939999            0     0   \n",
       "\n",
       "      SSD       os  \n",
       "0    1000  Windows  \n",
       "1     512  Windows  \n",
       "2     256  Windows  \n",
       "3     512  Windows  \n",
       "4     512  Windows  \n",
       "..    ...      ...  \n",
       "951   256  Windows  \n",
       "952   512  Windows  \n",
       "953  1000  Windows  \n",
       "954   512  Windows  \n",
       "955   512  Windows  \n",
       "\n",
       "[921 rows x 9 columns]"
      ]
     },
     "execution_count": 48,
     "metadata": {},
     "output_type": "execute_result"
    }
   ],
   "source": [
    "X"
   ]
  },
  {
   "cell_type": "code",
   "execution_count": 49,
   "id": "45ed4503",
   "metadata": {},
   "outputs": [
    {
     "data": {
      "text/plain": [
       "0      11.407454\n",
       "1      10.596385\n",
       "2      10.403960\n",
       "3      11.156108\n",
       "4      10.778748\n",
       "         ...    \n",
       "951    11.334982\n",
       "952    10.931141\n",
       "953    11.881035\n",
       "954    10.933089\n",
       "955    11.211685\n",
       "Name: Current_Price, Length: 921, dtype: float32"
      ]
     },
     "execution_count": 49,
     "metadata": {},
     "output_type": "execute_result"
    }
   ],
   "source": [
    "y"
   ]
  },
  {
   "cell_type": "code",
   "execution_count": 50,
   "id": "7635866d",
   "metadata": {},
   "outputs": [],
   "source": [
    "from sklearn.model_selection import train_test_split\n",
    "X_train,X_test,y_train,y_test = train_test_split(X,y,test_size=0.15,random_state=2)"
   ]
  },
  {
   "cell_type": "code",
   "execution_count": 51,
   "id": "123204af",
   "metadata": {},
   "outputs": [],
   "source": [
    "from sklearn.compose import ColumnTransformer\n",
    "from sklearn.pipeline import Pipeline\n",
    "from sklearn.preprocessing import OneHotEncoder\n",
    "from sklearn.metrics import r2_score,mean_absolute_error"
   ]
  },
  {
   "cell_type": "code",
   "execution_count": 52,
   "id": "df0131e0",
   "metadata": {},
   "outputs": [],
   "source": [
    "from sklearn.linear_model import LinearRegression,Ridge,Lasso\n",
    "from sklearn.neighbors import KNeighborsRegressor\n",
    "from sklearn.tree import DecisionTreeRegressor\n",
    "from sklearn.ensemble import RandomForestRegressor,GradientBoostingRegressor,AdaBoostRegressor,ExtraTreesRegressor\n",
    "from sklearn.svm import SVR\n",
    "from xgboost import XGBRegressor"
   ]
  },
  {
   "cell_type": "markdown",
   "id": "6a17ea89",
   "metadata": {},
   "source": [
    "### Linear regression"
   ]
  },
  {
   "cell_type": "code",
   "execution_count": 53,
   "id": "370ef998",
   "metadata": {},
   "outputs": [
    {
     "name": "stdout",
     "output_type": "stream",
     "text": [
      "R2 score 0.8656320931726483\n",
      "MAE 0.16026106434585632\n"
     ]
    }
   ],
   "source": [
    "step1 = ColumnTransformer(transformers=[\n",
    "    ('col_tnf',OneHotEncoder(sparse=False,drop='first'),[0,2,8])\n",
    "],remainder='passthrough')\n",
    "\n",
    "step2 = LinearRegression()\n",
    "\n",
    "pipe = Pipeline([\n",
    "    ('step1',step1),\n",
    "    ('step2',step2)\n",
    "])\n",
    "\n",
    "pipe.fit(X_train,y_train)\n",
    "\n",
    "y_pred = pipe.predict(X_test)\n",
    "\n",
    "print('R2 score',r2_score(y_test,y_pred))\n",
    "print('MAE',mean_absolute_error(y_test,y_pred))"
   ]
  },
  {
   "cell_type": "markdown",
   "id": "bf736037",
   "metadata": {},
   "source": [
    "### Ridge Regression"
   ]
  },
  {
   "cell_type": "code",
   "execution_count": 54,
   "id": "4127b0b1",
   "metadata": {},
   "outputs": [
    {
     "name": "stdout",
     "output_type": "stream",
     "text": [
      "R2 score 0.8017011033098341\n",
      "MAE 0.2048345415904953\n"
     ]
    }
   ],
   "source": [
    "step1 = ColumnTransformer(transformers=[\n",
    "    ('col_tnf',OneHotEncoder(sparse=False,drop='first'),[0,2,8])\n",
    "],remainder='passthrough')\n",
    "\n",
    "step2 = Ridge(alpha=10)\n",
    "\n",
    "pipe = Pipeline([\n",
    "    ('step1',step1),\n",
    "    ('step2',step2)\n",
    "])\n",
    "\n",
    "pipe.fit(X_train,y_train)\n",
    "\n",
    "y_pred = pipe.predict(X_test)\n",
    "\n",
    "print('R2 score',r2_score(y_test,y_pred))\n",
    "print('MAE',mean_absolute_error(y_test,y_pred))"
   ]
  },
  {
   "cell_type": "markdown",
   "id": "97fe2b02",
   "metadata": {},
   "source": [
    "### Lasso Regression"
   ]
  },
  {
   "cell_type": "code",
   "execution_count": 55,
   "id": "c1a1256d",
   "metadata": {},
   "outputs": [
    {
     "name": "stdout",
     "output_type": "stream",
     "text": [
      "R2 score 0.8500452945936341\n",
      "MAE 0.17337579969138475\n"
     ]
    }
   ],
   "source": [
    "step1 = ColumnTransformer(transformers=[\n",
    "    ('col_tnf',OneHotEncoder(sparse=False,drop='first'),[0,2,8])\n",
    "],remainder='passthrough')\n",
    "\n",
    "step2 = Lasso(alpha=0.001)\n",
    "\n",
    "pipe = Pipeline([\n",
    "    ('step1',step1),\n",
    "    ('step2',step2)\n",
    "])\n",
    "\n",
    "pipe.fit(X_train,y_train)\n",
    "\n",
    "y_pred = pipe.predict(X_test)\n",
    "\n",
    "print('R2 score',r2_score(y_test,y_pred))\n",
    "print('MAE',mean_absolute_error(y_test,y_pred))"
   ]
  },
  {
   "cell_type": "markdown",
   "id": "340885cb",
   "metadata": {},
   "source": [
    "### KNN"
   ]
  },
  {
   "cell_type": "code",
   "execution_count": 56,
   "id": "e83143f3",
   "metadata": {},
   "outputs": [
    {
     "name": "stdout",
     "output_type": "stream",
     "text": [
      "R2 score 0.7810735522032365\n",
      "MAE 0.20321196\n"
     ]
    }
   ],
   "source": [
    "step1 = ColumnTransformer(transformers=[\n",
    "    ('col_tnf',OneHotEncoder(sparse=False,drop='first'),[0,2,8])\n",
    "],remainder='passthrough')\n",
    "\n",
    "step2 = KNeighborsRegressor(n_neighbors=3)\n",
    "\n",
    "pipe = Pipeline([\n",
    "    ('step1',step1),\n",
    "    ('step2',step2)\n",
    "])\n",
    "\n",
    "pipe.fit(X_train,y_train)\n",
    "\n",
    "y_pred = pipe.predict(X_test)\n",
    "\n",
    "print('R2 score',r2_score(y_test,y_pred))\n",
    "print('MAE',mean_absolute_error(y_test,y_pred))"
   ]
  },
  {
   "cell_type": "markdown",
   "id": "e075dc21",
   "metadata": {},
   "source": [
    "### Decision Tree"
   ]
  },
  {
   "cell_type": "code",
   "execution_count": 57,
   "id": "597cc6f1",
   "metadata": {},
   "outputs": [
    {
     "name": "stdout",
     "output_type": "stream",
     "text": [
      "R2 score 0.8160314976418876\n",
      "MAE 0.18460963326067034\n"
     ]
    }
   ],
   "source": [
    "step1 = ColumnTransformer(transformers=[\n",
    "    ('col_tnf',OneHotEncoder(sparse=False,drop='first'),[0,2,8])\n",
    "],remainder='passthrough')\n",
    "\n",
    "step2 = DecisionTreeRegressor(max_depth=8)\n",
    "\n",
    "pipe = Pipeline([\n",
    "    ('step1',step1),\n",
    "    ('step2',step2)\n",
    "])\n",
    "\n",
    "pipe.fit(X_train,y_train)\n",
    "\n",
    "y_pred = pipe.predict(X_test)\n",
    "\n",
    "print('R2 score',r2_score(y_test,y_pred))\n",
    "print('MAE',mean_absolute_error(y_test,y_pred))"
   ]
  },
  {
   "cell_type": "markdown",
   "id": "86fb19b2",
   "metadata": {},
   "source": [
    "### SVM"
   ]
  },
  {
   "cell_type": "code",
   "execution_count": 58,
   "id": "47214f06",
   "metadata": {},
   "outputs": [
    {
     "name": "stdout",
     "output_type": "stream",
     "text": [
      "R2 score 0.8181365017933067\n",
      "MAE 0.19223933667709733\n"
     ]
    }
   ],
   "source": [
    "step1 = ColumnTransformer(transformers=[\n",
    "    ('col_tnf',OneHotEncoder(sparse=False,drop='first'),[0,2,8])\n",
    "],remainder='passthrough')\n",
    "\n",
    "step2 = SVR(kernel='rbf',C=10000,epsilon=0.1)\n",
    "\n",
    "pipe = Pipeline([\n",
    "    ('step1',step1),\n",
    "    ('step2',step2)\n",
    "])\n",
    "\n",
    "pipe.fit(X_train,y_train)\n",
    "\n",
    "y_pred = pipe.predict(X_test)\n",
    "\n",
    "print('R2 score',r2_score(y_test,y_pred))\n",
    "print('MAE',mean_absolute_error(y_test,y_pred))"
   ]
  },
  {
   "cell_type": "markdown",
   "id": "a0744244",
   "metadata": {},
   "source": [
    "### Random Forest"
   ]
  },
  {
   "cell_type": "code",
   "execution_count": 59,
   "id": "c172d772",
   "metadata": {},
   "outputs": [
    {
     "name": "stdout",
     "output_type": "stream",
     "text": [
      "R2 score 0.8647976882239314\n",
      "MAE 0.1620205495291436\n"
     ]
    }
   ],
   "source": [
    "step1 = ColumnTransformer(transformers=[\n",
    "    ('col_tnf',OneHotEncoder(sparse=False,drop='first'),[0,2,8])\n",
    "],remainder='passthrough')\n",
    "\n",
    "step2 = RandomForestRegressor(n_estimators=100,\n",
    "                              random_state=3,\n",
    "                              max_samples=0.5,\n",
    "                              max_features=0.75,\n",
    "                              max_depth=15)\n",
    "\n",
    "pipe = Pipeline([\n",
    "    ('step1',step1),\n",
    "    ('step2',step2)\n",
    "])\n",
    "\n",
    "pipe.fit(X_train,y_train)\n",
    "\n",
    "y_pred = pipe.predict(X_test)\n",
    "\n",
    "print('R2 score',r2_score(y_test,y_pred))\n",
    "print('MAE',mean_absolute_error(y_test,y_pred))"
   ]
  },
  {
   "cell_type": "markdown",
   "id": "87c892d3",
   "metadata": {},
   "source": [
    "### ExtraTrees"
   ]
  },
  {
   "cell_type": "code",
   "execution_count": 61,
   "id": "f4695b01",
   "metadata": {},
   "outputs": [
    {
     "name": "stdout",
     "output_type": "stream",
     "text": [
      "R2 score 0.8664661355529488\n",
      "MAE 0.14479157637238427\n"
     ]
    }
   ],
   "source": [
    "step1 = ColumnTransformer(transformers=[\n",
    "    ('col_tnf',OneHotEncoder(sparse=False,drop='first'),[0,2,8])\n",
    "],remainder='passthrough')\n",
    "\n",
    "step2 = ExtraTreesRegressor(n_estimators=100,\n",
    "                              random_state=3,\n",
    "                              max_samples=None,\n",
    "                              max_features=0.75,\n",
    "                              max_depth=15)\n",
    "\n",
    "pipe = Pipeline([\n",
    "    ('step1',step1),\n",
    "    ('step2',step2)\n",
    "])\n",
    "\n",
    "pipe.fit(X_train,y_train)\n",
    "\n",
    "y_pred = pipe.predict(X_test)\n",
    "\n",
    "print('R2 score',r2_score(y_test,y_pred))\n",
    "print('MAE',mean_absolute_error(y_test,y_pred))"
   ]
  },
  {
   "cell_type": "markdown",
   "id": "fbcb7d44",
   "metadata": {},
   "source": [
    "### AdaBoost"
   ]
  },
  {
   "cell_type": "code",
   "execution_count": 62,
   "id": "a7fcb9e6",
   "metadata": {},
   "outputs": [
    {
     "name": "stdout",
     "output_type": "stream",
     "text": [
      "R2 score 0.7665601123142223\n",
      "MAE 0.23394899653057014\n"
     ]
    }
   ],
   "source": [
    "step1 = ColumnTransformer(transformers=[\n",
    "    ('col_tnf',OneHotEncoder(sparse=False,drop='first'),[0,2,8])\n",
    "],remainder='passthrough')\n",
    "\n",
    "step2 = AdaBoostRegressor(n_estimators=15,learning_rate=1.0)\n",
    "\n",
    "pipe = Pipeline([\n",
    "    ('step1',step1),\n",
    "    ('step2',step2)\n",
    "])\n",
    "\n",
    "pipe.fit(X_train,y_train)\n",
    "\n",
    "y_pred = pipe.predict(X_test)\n",
    "\n",
    "print('R2 score',r2_score(y_test,y_pred))\n",
    "print('MAE',mean_absolute_error(y_test,y_pred))"
   ]
  },
  {
   "cell_type": "markdown",
   "id": "2e002c74",
   "metadata": {},
   "source": [
    "### Gradient Boost"
   ]
  },
  {
   "cell_type": "code",
   "execution_count": 63,
   "id": "40e3b195",
   "metadata": {},
   "outputs": [
    {
     "name": "stdout",
     "output_type": "stream",
     "text": [
      "R2 score 0.8875757503960539\n",
      "MAE 0.14403937061223002\n"
     ]
    }
   ],
   "source": [
    "step1 = ColumnTransformer(transformers=[\n",
    "    ('col_tnf',OneHotEncoder(sparse=False,drop='first'),[0,2,8])\n",
    "],remainder='passthrough')\n",
    "\n",
    "step2 = GradientBoostingRegressor(n_estimators=500)\n",
    "\n",
    "pipe = Pipeline([\n",
    "    ('step1',step1),\n",
    "    ('step2',step2)\n",
    "])\n",
    "\n",
    "pipe.fit(X_train,y_train)\n",
    "\n",
    "y_pred = pipe.predict(X_test)\n",
    "\n",
    "print('R2 score',r2_score(y_test,y_pred))\n",
    "print('MAE',mean_absolute_error(y_test,y_pred))"
   ]
  },
  {
   "cell_type": "markdown",
   "id": "2fe2aa72",
   "metadata": {},
   "source": [
    "### XgBoost"
   ]
  },
  {
   "cell_type": "code",
   "execution_count": 64,
   "id": "ee93df39",
   "metadata": {},
   "outputs": [
    {
     "name": "stdout",
     "output_type": "stream",
     "text": [
      "R2 score 0.9020037517961735\n",
      "MAE 0.13903594\n"
     ]
    }
   ],
   "source": [
    "step1 = ColumnTransformer(transformers=[\n",
    "    ('col_tnf',OneHotEncoder(sparse=False,drop='first'),[0,2,8])\n",
    "],remainder='passthrough')\n",
    "\n",
    "step2 = XGBRegressor(n_estimators=45,max_depth=5,learning_rate=0.5)\n",
    "\n",
    "pipe = Pipeline([\n",
    "    ('step1',step1),\n",
    "    ('step2',step2)\n",
    "])\n",
    "\n",
    "pipe.fit(X_train,y_train)\n",
    "\n",
    "y_pred = pipe.predict(X_test)\n",
    "\n",
    "print('R2 score',r2_score(y_test,y_pred))\n",
    "print('MAE',mean_absolute_error(y_test,y_pred))"
   ]
  },
  {
   "cell_type": "markdown",
   "id": "4142f22f",
   "metadata": {},
   "source": [
    "### Exporting the Model"
   ]
  },
  {
   "cell_type": "code",
   "execution_count": 65,
   "id": "3d3b6f78",
   "metadata": {},
   "outputs": [],
   "source": [
    "import pickle\n",
    "\n",
    "pickle.dump(df,open('df3.pkl','wb'))\n",
    "pickle.dump(pipe,open('pipe3.pkl','wb'))"
   ]
  },
  {
   "cell_type": "code",
   "execution_count": 66,
   "id": "f572ac5a",
   "metadata": {},
   "outputs": [
    {
     "data": {
      "text/html": [
       "<div>\n",
       "<style scoped>\n",
       "    .dataframe tbody tr th:only-of-type {\n",
       "        vertical-align: middle;\n",
       "    }\n",
       "\n",
       "    .dataframe tbody tr th {\n",
       "        vertical-align: top;\n",
       "    }\n",
       "\n",
       "    .dataframe thead th {\n",
       "        text-align: right;\n",
       "    }\n",
       "</style>\n",
       "<table border=\"1\" class=\"dataframe\">\n",
       "  <thead>\n",
       "    <tr style=\"text-align: right;\">\n",
       "      <th></th>\n",
       "      <th>ProductName</th>\n",
       "      <th>star</th>\n",
       "      <th>Current_Price</th>\n",
       "      <th>Processor</th>\n",
       "      <th>RAM</th>\n",
       "      <th>ScreenSize</th>\n",
       "      <th>Touchscreen</th>\n",
       "      <th>HDD</th>\n",
       "      <th>SSD</th>\n",
       "      <th>os</th>\n",
       "    </tr>\n",
       "  </thead>\n",
       "  <tbody>\n",
       "    <tr>\n",
       "      <th>0</th>\n",
       "      <td>ASUS</td>\n",
       "      <td>4.8</td>\n",
       "      <td>89990.0</td>\n",
       "      <td>AMD Ryzen 7</td>\n",
       "      <td>16</td>\n",
       "      <td>39.619999</td>\n",
       "      <td>0</td>\n",
       "      <td>0</td>\n",
       "      <td>1000</td>\n",
       "      <td>Windows</td>\n",
       "    </tr>\n",
       "    <tr>\n",
       "      <th>1</th>\n",
       "      <td>ASUS</td>\n",
       "      <td>4.4</td>\n",
       "      <td>39990.0</td>\n",
       "      <td>AMD Ryzen 5</td>\n",
       "      <td>8</td>\n",
       "      <td>35.560001</td>\n",
       "      <td>0</td>\n",
       "      <td>0</td>\n",
       "      <td>512</td>\n",
       "      <td>Windows</td>\n",
       "    </tr>\n",
       "    <tr>\n",
       "      <th>2</th>\n",
       "      <td>ASUS</td>\n",
       "      <td>4.3</td>\n",
       "      <td>32990.0</td>\n",
       "      <td>AMD Ryzen 3</td>\n",
       "      <td>8</td>\n",
       "      <td>39.619999</td>\n",
       "      <td>0</td>\n",
       "      <td>0</td>\n",
       "      <td>256</td>\n",
       "      <td>Windows</td>\n",
       "    </tr>\n",
       "    <tr>\n",
       "      <th>3</th>\n",
       "      <td>Lenovo</td>\n",
       "      <td>5.0</td>\n",
       "      <td>69990.0</td>\n",
       "      <td>AMD Ryzen 7</td>\n",
       "      <td>16</td>\n",
       "      <td>39.619999</td>\n",
       "      <td>0</td>\n",
       "      <td>0</td>\n",
       "      <td>512</td>\n",
       "      <td>Windows</td>\n",
       "    </tr>\n",
       "    <tr>\n",
       "      <th>4</th>\n",
       "      <td>Lenovo</td>\n",
       "      <td>4.3</td>\n",
       "      <td>47990.0</td>\n",
       "      <td>AMD Ryzen 5</td>\n",
       "      <td>8</td>\n",
       "      <td>39.619999</td>\n",
       "      <td>0</td>\n",
       "      <td>0</td>\n",
       "      <td>512</td>\n",
       "      <td>Windows</td>\n",
       "    </tr>\n",
       "    <tr>\n",
       "      <th>...</th>\n",
       "      <td>...</td>\n",
       "      <td>...</td>\n",
       "      <td>...</td>\n",
       "      <td>...</td>\n",
       "      <td>...</td>\n",
       "      <td>...</td>\n",
       "      <td>...</td>\n",
       "      <td>...</td>\n",
       "      <td>...</td>\n",
       "      <td>...</td>\n",
       "    </tr>\n",
       "    <tr>\n",
       "      <th>951</th>\n",
       "      <td>Lenovo</td>\n",
       "      <td>4.4</td>\n",
       "      <td>83699.0</td>\n",
       "      <td>Intel Core i7</td>\n",
       "      <td>8</td>\n",
       "      <td>39.619999</td>\n",
       "      <td>0</td>\n",
       "      <td>1000</td>\n",
       "      <td>256</td>\n",
       "      <td>Windows</td>\n",
       "    </tr>\n",
       "    <tr>\n",
       "      <th>952</th>\n",
       "      <td>DELL</td>\n",
       "      <td>4.1</td>\n",
       "      <td>55890.0</td>\n",
       "      <td>Intel Core i5</td>\n",
       "      <td>8</td>\n",
       "      <td>35.560001</td>\n",
       "      <td>0</td>\n",
       "      <td>0</td>\n",
       "      <td>512</td>\n",
       "      <td>Windows</td>\n",
       "    </tr>\n",
       "    <tr>\n",
       "      <th>953</th>\n",
       "      <td>ASUS</td>\n",
       "      <td>4.4</td>\n",
       "      <td>144500.0</td>\n",
       "      <td>Intel Core i7</td>\n",
       "      <td>16</td>\n",
       "      <td>35.560001</td>\n",
       "      <td>1</td>\n",
       "      <td>0</td>\n",
       "      <td>1000</td>\n",
       "      <td>Windows</td>\n",
       "    </tr>\n",
       "    <tr>\n",
       "      <th>954</th>\n",
       "      <td>Lenovo</td>\n",
       "      <td>0.0</td>\n",
       "      <td>55999.0</td>\n",
       "      <td>Intel Core i5</td>\n",
       "      <td>8</td>\n",
       "      <td>39.619999</td>\n",
       "      <td>0</td>\n",
       "      <td>0</td>\n",
       "      <td>512</td>\n",
       "      <td>Windows</td>\n",
       "    </tr>\n",
       "    <tr>\n",
       "      <th>955</th>\n",
       "      <td>ASUS</td>\n",
       "      <td>4.5</td>\n",
       "      <td>73990.0</td>\n",
       "      <td>Intel Core i5</td>\n",
       "      <td>8</td>\n",
       "      <td>43.939999</td>\n",
       "      <td>0</td>\n",
       "      <td>0</td>\n",
       "      <td>512</td>\n",
       "      <td>Windows</td>\n",
       "    </tr>\n",
       "  </tbody>\n",
       "</table>\n",
       "<p>921 rows × 10 columns</p>\n",
       "</div>"
      ],
      "text/plain": [
       "    ProductName  star  Current_Price      Processor  RAM  ScreenSize  \\\n",
       "0          ASUS   4.8        89990.0    AMD Ryzen 7   16   39.619999   \n",
       "1          ASUS   4.4        39990.0    AMD Ryzen 5    8   35.560001   \n",
       "2          ASUS   4.3        32990.0    AMD Ryzen 3    8   39.619999   \n",
       "3        Lenovo   5.0        69990.0    AMD Ryzen 7   16   39.619999   \n",
       "4        Lenovo   4.3        47990.0    AMD Ryzen 5    8   39.619999   \n",
       "..          ...   ...            ...            ...  ...         ...   \n",
       "951      Lenovo   4.4        83699.0  Intel Core i7    8   39.619999   \n",
       "952        DELL   4.1        55890.0  Intel Core i5    8   35.560001   \n",
       "953        ASUS   4.4       144500.0  Intel Core i7   16   35.560001   \n",
       "954      Lenovo   0.0        55999.0  Intel Core i5    8   39.619999   \n",
       "955        ASUS   4.5        73990.0  Intel Core i5    8   43.939999   \n",
       "\n",
       "     Touchscreen   HDD   SSD       os  \n",
       "0              0     0  1000  Windows  \n",
       "1              0     0   512  Windows  \n",
       "2              0     0   256  Windows  \n",
       "3              0     0   512  Windows  \n",
       "4              0     0   512  Windows  \n",
       "..           ...   ...   ...      ...  \n",
       "951            0  1000   256  Windows  \n",
       "952            0     0   512  Windows  \n",
       "953            1     0  1000  Windows  \n",
       "954            0     0   512  Windows  \n",
       "955            0     0   512  Windows  \n",
       "\n",
       "[921 rows x 10 columns]"
      ]
     },
     "execution_count": 66,
     "metadata": {},
     "output_type": "execute_result"
    }
   ],
   "source": [
    "df"
   ]
  },
  {
   "cell_type": "code",
   "execution_count": 67,
   "id": "ffe8581c",
   "metadata": {},
   "outputs": [
    {
     "data": {
      "text/html": [
       "<div>\n",
       "<style scoped>\n",
       "    .dataframe tbody tr th:only-of-type {\n",
       "        vertical-align: middle;\n",
       "    }\n",
       "\n",
       "    .dataframe tbody tr th {\n",
       "        vertical-align: top;\n",
       "    }\n",
       "\n",
       "    .dataframe thead th {\n",
       "        text-align: right;\n",
       "    }\n",
       "</style>\n",
       "<table border=\"1\" class=\"dataframe\">\n",
       "  <thead>\n",
       "    <tr style=\"text-align: right;\">\n",
       "      <th></th>\n",
       "      <th>ProductName</th>\n",
       "      <th>star</th>\n",
       "      <th>Processor</th>\n",
       "      <th>RAM</th>\n",
       "      <th>ScreenSize</th>\n",
       "      <th>Touchscreen</th>\n",
       "      <th>HDD</th>\n",
       "      <th>SSD</th>\n",
       "      <th>os</th>\n",
       "    </tr>\n",
       "  </thead>\n",
       "  <tbody>\n",
       "    <tr>\n",
       "      <th>730</th>\n",
       "      <td>DELL</td>\n",
       "      <td>4.3</td>\n",
       "      <td>Intel Core i5</td>\n",
       "      <td>8</td>\n",
       "      <td>39.619999</td>\n",
       "      <td>0</td>\n",
       "      <td>0</td>\n",
       "      <td>512</td>\n",
       "      <td>Windows</td>\n",
       "    </tr>\n",
       "    <tr>\n",
       "      <th>723</th>\n",
       "      <td>Avita</td>\n",
       "      <td>0.0</td>\n",
       "      <td>Intel Core i5</td>\n",
       "      <td>8</td>\n",
       "      <td>33.779999</td>\n",
       "      <td>0</td>\n",
       "      <td>0</td>\n",
       "      <td>512</td>\n",
       "      <td>Windows</td>\n",
       "    </tr>\n",
       "    <tr>\n",
       "      <th>394</th>\n",
       "      <td>HP</td>\n",
       "      <td>0.0</td>\n",
       "      <td>AMD Ryzen 3</td>\n",
       "      <td>8</td>\n",
       "      <td>35.560001</td>\n",
       "      <td>0</td>\n",
       "      <td>1000</td>\n",
       "      <td>0</td>\n",
       "      <td>Windows</td>\n",
       "    </tr>\n",
       "    <tr>\n",
       "      <th>636</th>\n",
       "      <td>HP</td>\n",
       "      <td>4.4</td>\n",
       "      <td>AMD Ryzen 5</td>\n",
       "      <td>8</td>\n",
       "      <td>35.560001</td>\n",
       "      <td>0</td>\n",
       "      <td>0</td>\n",
       "      <td>512</td>\n",
       "      <td>Windows</td>\n",
       "    </tr>\n",
       "    <tr>\n",
       "      <th>274</th>\n",
       "      <td>DELL</td>\n",
       "      <td>3.8</td>\n",
       "      <td>AMD Ryzen 3</td>\n",
       "      <td>8</td>\n",
       "      <td>88.900002</td>\n",
       "      <td>0</td>\n",
       "      <td>1000</td>\n",
       "      <td>0</td>\n",
       "      <td>Windows</td>\n",
       "    </tr>\n",
       "    <tr>\n",
       "      <th>...</th>\n",
       "      <td>...</td>\n",
       "      <td>...</td>\n",
       "      <td>...</td>\n",
       "      <td>...</td>\n",
       "      <td>...</td>\n",
       "      <td>...</td>\n",
       "      <td>...</td>\n",
       "      <td>...</td>\n",
       "      <td>...</td>\n",
       "    </tr>\n",
       "    <tr>\n",
       "      <th>548</th>\n",
       "      <td>ASUS</td>\n",
       "      <td>4.2</td>\n",
       "      <td>Intel Core i7</td>\n",
       "      <td>16</td>\n",
       "      <td>35.560001</td>\n",
       "      <td>1</td>\n",
       "      <td>0</td>\n",
       "      <td>1000</td>\n",
       "      <td>Windows</td>\n",
       "    </tr>\n",
       "    <tr>\n",
       "      <th>601</th>\n",
       "      <td>ASUS</td>\n",
       "      <td>4.4</td>\n",
       "      <td>Intel Core i5</td>\n",
       "      <td>8</td>\n",
       "      <td>33.779999</td>\n",
       "      <td>0</td>\n",
       "      <td>0</td>\n",
       "      <td>512</td>\n",
       "      <td>Windows</td>\n",
       "    </tr>\n",
       "    <tr>\n",
       "      <th>504</th>\n",
       "      <td>ASUS</td>\n",
       "      <td>4.5</td>\n",
       "      <td>Intel Core i5</td>\n",
       "      <td>8</td>\n",
       "      <td>39.619999</td>\n",
       "      <td>0</td>\n",
       "      <td>0</td>\n",
       "      <td>512</td>\n",
       "      <td>Windows</td>\n",
       "    </tr>\n",
       "    <tr>\n",
       "      <th>541</th>\n",
       "      <td>DELL</td>\n",
       "      <td>4.3</td>\n",
       "      <td>AMD Ryzen 7</td>\n",
       "      <td>16</td>\n",
       "      <td>39.619999</td>\n",
       "      <td>0</td>\n",
       "      <td>0</td>\n",
       "      <td>512</td>\n",
       "      <td>Windows</td>\n",
       "    </tr>\n",
       "    <tr>\n",
       "      <th>172</th>\n",
       "      <td>APPLE</td>\n",
       "      <td>0.0</td>\n",
       "      <td>Apple M2 Processor</td>\n",
       "      <td>8</td>\n",
       "      <td>34.540001</td>\n",
       "      <td>0</td>\n",
       "      <td>0</td>\n",
       "      <td>512</td>\n",
       "      <td>Mac</td>\n",
       "    </tr>\n",
       "  </tbody>\n",
       "</table>\n",
       "<p>782 rows × 9 columns</p>\n",
       "</div>"
      ],
      "text/plain": [
       "    ProductName  star           Processor  RAM  ScreenSize  Touchscreen   HDD  \\\n",
       "730        DELL   4.3       Intel Core i5    8   39.619999            0     0   \n",
       "723       Avita   0.0       Intel Core i5    8   33.779999            0     0   \n",
       "394          HP   0.0         AMD Ryzen 3    8   35.560001            0  1000   \n",
       "636          HP   4.4         AMD Ryzen 5    8   35.560001            0     0   \n",
       "274        DELL   3.8         AMD Ryzen 3    8   88.900002            0  1000   \n",
       "..          ...   ...                 ...  ...         ...          ...   ...   \n",
       "548        ASUS   4.2       Intel Core i7   16   35.560001            1     0   \n",
       "601        ASUS   4.4       Intel Core i5    8   33.779999            0     0   \n",
       "504        ASUS   4.5       Intel Core i5    8   39.619999            0     0   \n",
       "541        DELL   4.3         AMD Ryzen 7   16   39.619999            0     0   \n",
       "172       APPLE   0.0  Apple M2 Processor    8   34.540001            0     0   \n",
       "\n",
       "      SSD       os  \n",
       "730   512  Windows  \n",
       "723   512  Windows  \n",
       "394     0  Windows  \n",
       "636   512  Windows  \n",
       "274     0  Windows  \n",
       "..    ...      ...  \n",
       "548  1000  Windows  \n",
       "601   512  Windows  \n",
       "504   512  Windows  \n",
       "541   512  Windows  \n",
       "172   512      Mac  \n",
       "\n",
       "[782 rows x 9 columns]"
      ]
     },
     "execution_count": 67,
     "metadata": {},
     "output_type": "execute_result"
    }
   ],
   "source": [
    "X_train"
   ]
  },
  {
   "cell_type": "code",
   "execution_count": null,
   "id": "8a9cca88",
   "metadata": {},
   "outputs": [],
   "source": []
  }
 ],
 "metadata": {
  "kernelspec": {
   "display_name": "Python 3 (ipykernel)",
   "language": "python",
   "name": "python3"
  },
  "language_info": {
   "codemirror_mode": {
    "name": "ipython",
    "version": 3
   },
   "file_extension": ".py",
   "mimetype": "text/x-python",
   "name": "python",
   "nbconvert_exporter": "python",
   "pygments_lexer": "ipython3",
   "version": "3.9.12"
  }
 },
 "nbformat": 4,
 "nbformat_minor": 5
}
